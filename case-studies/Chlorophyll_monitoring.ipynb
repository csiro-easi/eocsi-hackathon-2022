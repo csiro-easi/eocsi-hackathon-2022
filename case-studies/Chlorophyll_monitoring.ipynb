{
 "cells": [
  {
   "cell_type": "markdown",
   "metadata": {},
   "source": [
    "# Monitoring chlorophyll-*a* in Singapore waterbodies <img align=\"right\" src=\"../resources/csiro_easi_logo.png\">\n",
    "\n",
    "This notebook has been adapted from [Digital Earth Australia](https://github.com/GeoscienceAustralia/dea-notebooks/blob/develop/Real_world_examples/Chlorophyll_monitoring.ipynb)"
   ]
  },
  {
   "cell_type": "markdown",
   "metadata": {
    "jp-MarkdownHeadingCollapsed": true,
    "tags": []
   },
   "source": [
    "## Background\n",
    "Waterbodies are essential for supporting human life, both through the supply of drinking water and the support of agriculture and aquaculture.\n",
    "Such waterbodies can be contaminated by outbreaks of blue-green (and other toxic) algae, causing health issues for people and animals.\n",
    "For example, up to a million fish died during an [algal bloom event](https://www.abc.net.au/news/2019-01-08/second-fish-kill-in-darling-river-at-menindee/10696632) in the Darling river in late 2018 and early 2019. \n",
    "While the health of waterbodies can be monitored from the ground through sampling, satellite imagery can complement this, potentially improving the detection of large algal bloom events.\n",
    "However, there needs to be a well-understood and tested way to link satellite observations to the presence of algal blooms.\n",
    "\n",
    "### Sentinel-2 use case\n",
    "Algal blooms are associated with the presence of clorophyll-*a* in waterbodies.\n",
    "[Mishra and Mishra (2012)](https://doi.org/10.1016/j.rse.2011.10.016) developed the normalised difference chlorophyll index (NDCI), which serves as a qualitative indicator for the concentration of clorophyll-*a* on the surface of a waterbody.\n",
    "The index requires information from a specific part of the infrared specturm, known as the 'red edge'. \n",
    "This is captured as part of Sentinel-2's 13 spectral bands, making it possible to measure the NDCI with Sentinel-2. \n",
    "\n",
    "## Description\n",
    "\n",
    "In this example, we measure the NDCI for the Lower Seletar Reservoir in Singapore, which has been affected previously by blue-green algae blooms.\n",
    "This is combined with information about the size of the waterbody, which is used to build a helpful visualisation of how the water-level and presence of chlorophyll-*a* changes over time.\n",
    "The worked example takes users through the code required to:\n",
    "\n",
    "1. Load cloud-free Sentinel-2 images for an area of interest.\n",
    "2. Compute indices to measure the presence of water and clorophyll-*a*.\n",
    "3. Generate informative visualisations to identify the presence of clorophyll-*a*.\n",
    "\n",
    "### Some caveats\n",
    "\n",
    "* The NDCI is currently treated as an experimental index, as futher work is needed to calibrate and validate how well the index relates to the presence of clorophyll-*a*. \n",
    "* It is also important to remember that algal blooms will usually result in increased values of the NDCI, but not all NDCI increases will be from algal blooms.\n",
    "For example, there may be seasonal fluctuations in the amount of clorophyll-*a* in a waterbody.\n",
    "* Further validation work is required to understand how shallow water and atmospheric effects affect the NDCI, and its use in identifying high concentrations of clorophyll-*a*.\n",
    "\n",
    "***"
   ]
  },
  {
   "cell_type": "markdown",
   "metadata": {},
   "source": [
    "## Getting started\n",
    "\n",
    "**To run this analysis**, run all the cells in the notebook, starting with the \"Load packages\" cell.\n",
    "\n",
    "**After finishing the analysis**, return to the \"Analysis parameters\" cell, modify some values (e.g. choose a different location or time period to analyse) and re-run the analysis.\n",
    "There are additional instructions on modifying the notebook at the end."
   ]
  },
  {
   "cell_type": "markdown",
   "metadata": {},
   "source": [
    "### Load packages\n",
    "Load key Python packages and supporting functions for the analysis."
   ]
  },
  {
   "cell_type": "code",
   "execution_count": null,
   "metadata": {},
   "outputs": [],
   "source": [
    "%matplotlib inline\n",
    "\n",
    "import datacube\n",
    "from datacube.utils import masking\n",
    "import matplotlib\n",
    "import matplotlib.pyplot as plt\n",
    "import numpy as np\n",
    "import pandas as pd\n",
    "import xarray as xr\n",
    "\n",
    "import warnings\n",
    "warnings.filterwarnings(\"ignore\")\n",
    "\n",
    "import sys\n",
    "sys.path.insert(1, '../Tools/')\n",
    "from dea_tools.datahandling import load_ard\n",
    "from dea_tools.plotting import rgb, display_map\n",
    "from dea_tools.bandindices import calculate_indices"
   ]
  },
  {
   "cell_type": "markdown",
   "metadata": {},
   "source": [
    "### Connect to the datacube\n",
    "Activate the datacube database, which provides functionality for loading and displaying stored Earth observation data."
   ]
  },
  {
   "cell_type": "code",
   "execution_count": null,
   "metadata": {},
   "outputs": [],
   "source": [
    "dc = datacube.Datacube(app=\"Chlorophyll_monitoring\")"
   ]
  },
  {
   "cell_type": "markdown",
   "metadata": {},
   "source": [
    "### Analysis parameters\n",
    "\n",
    "The following cell sets the parameters, which define the area of interest and the length of time to conduct the analysis over.\n",
    "The parameters are\n",
    "\n",
    "* `latitude`: The latitude range to analyse (e.g. `(-32.423, -32.523)`).\n",
    "For reasonable loading times, make sure the range spans less than ~0.1 degrees.\n",
    "* `longitude`: The longitude range to analyse (e.g. `(142.180, 142.280)`).\n",
    "For reasonable loading times, make sure the range spans less than ~0.1 degrees.\n",
    "* `time`: The date range to analyse (e.g. `('2015-01-01', '2019-09-01')`).\n",
    "For reasonable loading times, make sure the range spans less than 3 years.\n",
    "Note that Sentinel-2 data is only available after July 2015.\n",
    "\n",
    "**If running the notebook for the first time**, keep the default settings below.\n",
    "This will demonstrate how the analysis works and provide meaningful results.\n",
    "The example covers Lake Cawndilla, one of the Menindee Lakes in New South Wales.\n",
    "\n",
    "**To run the notebook for a different area**, make sure Sentinel-2 data is available for the chosen area using the [DEA Sandbox Explorer](https://explorer.sandbox.dea.ga.gov.au/s2a_ard_granule).\n",
    "Use the drop-down menu to check both Sentinel-2A (`s2a_ard_granule`) and Sentinel-2B (`s2b_ard_granule`). \n"
   ]
  },
  {
   "cell_type": "code",
   "execution_count": null,
   "metadata": {},
   "outputs": [],
   "source": [
    "# Define the area of interest  \n",
    "latitude = (1.4300, 1.3950)\n",
    "longitude = (103.82300, 103.87000)\n",
    "\n",
    "# Large area then above\n",
    "#latitude = (1.452597, 1.390286)\n",
    "#longitude = (103.823526, 103.881930) \n",
    "\n",
    "# Set the range of dates for the analysis\n",
    "time = (\"2018-06-01\", \"2020-06-01\")"
   ]
  },
  {
   "cell_type": "markdown",
   "metadata": {
    "tags": []
   },
   "source": [
    "## View the selected location\n",
    "The next cell will display the selected area on an interactive map.\n",
    "Feel free to zoom in and out to get a better understanding of the area you'll be analysing.\n",
    "Clicking on any point of the map will reveal the latitude and longitude coordinates of that point."
   ]
  },
  {
   "cell_type": "code",
   "execution_count": null,
   "metadata": {},
   "outputs": [],
   "source": [
    "display_map(x=longitude, y=latitude)"
   ]
  },
  {
   "cell_type": "markdown",
   "metadata": {},
   "source": [
    "## Load and view Sentinel 2 data\n",
    "\n",
    "The first step in the analysis is to load Sentinel-2 data for the specified area of interest and time range.\n",
    "\n",
    "The loading process makes use of dask, which will return a lazy-loaded data set. This means that no values will be loaded until abosultely required. As such, the next cell will run quickly, but you won't yet be able to visualise the values.\n",
    "\n",
    "The load is complete when the cell status goes from `[*]` to `[number]`."
   ]
  },
  {
   "cell_type": "code",
   "execution_count": null,
   "metadata": {},
   "outputs": [],
   "source": [
    "# Choose products to load\n",
    "# Here, the Sentinel-2a and Sentinel-2b products are chosen\n",
    "product = [\"s2_l2a\"]\n",
    "\n",
    "# Specify the parameters to pass to the load query\n",
    "query = {\n",
    "    \"x\": longitude,\n",
    "    \"y\": latitude,\n",
    "    \"time\": time,\n",
    "    \"measurements\": [\n",
    "        \"red_edge_1\",  # Red edge 1 band\n",
    "        \"red\",  # Red band\n",
    "        \"green\",  # Green band\n",
    "        \"blue\",  # Blue band\n",
    "        \"nir_1\",  # Near-infrared band\n",
    "        \"swir_1\",  # Short wave infrared band 1\n",
    "        \"swir_2\", # Short wave infrared band 2\n",
    "        \"mask\", # Cloud mask\n",
    "    ],\n",
    "    \"output_crs\": \"EPSG:3577\", #3857\n",
    "    \"resolution\": (-20, 20),\n",
    "    \"dask_chunks\": {\"time\": 1, \"x\":400, \"y\":400}\n",
    "}\n",
    "\n",
    "# Load the data\n",
    "ds_s2 = dc.load(product=product, **query)\n"
   ]
  },
  {
   "cell_type": "markdown",
   "metadata": {},
   "source": [
    "**Once the load is complete**, examine the data by printing it in the next cell.\n",
    "The `Dimensions` argument revels the number of time steps in the data set, as well as the number of pixels in the `x` (longitude) and `y` (latitude) dimensions.\n",
    "\n",
    "For each requested measurement, you will see the `dask.array` type listed for the values. This indicates that the instructions for generating this data have been noted, but not yet executed."
   ]
  },
  {
   "cell_type": "code",
   "execution_count": null,
   "metadata": {
    "tags": []
   },
   "outputs": [],
   "source": [
    "ds_s2"
   ]
  },
  {
   "cell_type": "markdown",
   "metadata": {},
   "source": [
    "### Masking\n",
    "\n",
    "Clouds, cloud shadows, and other invalid pixels need to be removed before conducting the analysis.\n",
    "\n",
    "The first step in masking is to identify the information in the masking band. This can be done using the `masking.describe_variable_flags)` function:"
   ]
  },
  {
   "cell_type": "code",
   "execution_count": null,
   "metadata": {},
   "outputs": [],
   "source": [
    "masking.describe_variable_flags(ds_s2.mask)"
   ]
  },
  {
   "cell_type": "markdown",
   "metadata": {},
   "source": [
    "For Sentinel-2 in the Asia EASI Hub, the masking information is stored in the **values** column of the **qa** row in this dataframe. To get a better look at the types of pixel classifications this mask has, we can display the values column:"
   ]
  },
  {
   "cell_type": "code",
   "execution_count": null,
   "metadata": {},
   "outputs": [],
   "source": [
    "masking.describe_variable_flags(ds_s2.mask).loc[\"qa\", \"values\"]"
   ]
  },
  {
   "cell_type": "markdown",
   "metadata": {},
   "source": [
    "We can now construct a mask of valid pixel classes. In this case, we say that `vegetation`, `bare soils`, `water`, or `snow or ice` are valid, cloud-free pixels:"
   ]
  },
  {
   "cell_type": "code",
   "execution_count": null,
   "metadata": {},
   "outputs": [],
   "source": [
    "# Multiple flags are combined as logial OR using the | symbol\n",
    "cloud_free_mask = (\n",
    "    masking.make_mask(ds_s2.mask, qa=\"vegetation\") | \n",
    "    masking.make_mask(ds_s2.mask, qa=\"bare soils\") |\n",
    "    masking.make_mask(ds_s2.mask, qa=\"water\") |\n",
    "    masking.make_mask(ds_s2.mask, qa=\"snow or ice\")\n",
    ")"
   ]
  },
  {
   "cell_type": "markdown",
   "metadata": {},
   "source": [
    "Now that we have a mask that contains the location of valid pixels, we can count the number of valid pixels and divide by the total number of pixels to identify the proportion of valid data in each observation."
   ]
  },
  {
   "cell_type": "code",
   "execution_count": null,
   "metadata": {},
   "outputs": [],
   "source": [
    "# Calculate proportion of good pixels\n",
    "valid_pixel_proportion = cloud_free_mask.sum(dim=(\"x\", \"y\"))/(cloud_free_mask.shape[1] * cloud_free_mask.shape[2])\n",
    "\n",
    "valid_threshold = 0.7\n",
    "observations_to_keep = (valid_pixel_proportion >= valid_threshold)"
   ]
  },
  {
   "cell_type": "markdown",
   "metadata": {},
   "source": [
    "The final step is to mask the data, then only keep the observations where more than 70% of the pixels are valid."
   ]
  },
  {
   "cell_type": "code",
   "execution_count": null,
   "metadata": {},
   "outputs": [],
   "source": [
    "# Mask the data\n",
    "ds_s2 = ds_s2.where(cloud_free_mask)\n",
    "\n",
    "# only keep observations above the good pixel proportion threshold\n",
    "# The .compute() step means the values will be loaded into memory. This step may take some time\n",
    "ds_s2 = ds_s2.sel(time=observations_to_keep).compute()"
   ]
  },
  {
   "cell_type": "code",
   "execution_count": null,
   "metadata": {},
   "outputs": [],
   "source": [
    "# View the loaded data\n",
    "\n",
    "ds_s2"
   ]
  },
  {
   "cell_type": "markdown",
   "metadata": {},
   "source": [
    "### Plot example timestep in true colour\n",
    "\n",
    "To visualise the data, use the pre-loaded `rgb` utility function to plot a true colour image for a given time-step. \n",
    "\n",
    "The settings below will display images for a two time steps, one in July 2017, one in July 2018.\n",
    "White areas indicate where clouds or other invalid pixels in the image have been masked.\n",
    "What are the key differences between the two images?\n",
    "\n",
    "Feel free to experiement with the values for the `initial_timestep` and `final_timestep` variables; re-run the cell to plot the images for the new timesteps.\n",
    "The values for the timesteps can be `0` to `n_time - 1` where `n_time` is the number of timesteps (see the `time` listing under the `Dimensions` category in the dataset print-out above).\n",
    "\n",
    "**Note:** if the location and time are changed, you may need to change the `intial_timestep` and `final_timestep` parameters to view images at similar times of year."
   ]
  },
  {
   "cell_type": "code",
   "execution_count": null,
   "metadata": {},
   "outputs": [],
   "source": [
    "# Set the timesteps to visualise\n",
    "initial_timestep = 0\n",
    "final_timestep = 17\n",
    "\n",
    "# Generate RGB plots at each timestep\n",
    "rgb(ds_s2, bands=[\"red\", \"green\", \"blue\"], index=[initial_timestep, final_timestep], robust=True)"
   ]
  },
  {
   "cell_type": "markdown",
   "metadata": {},
   "source": [
    "## Compute band indices\n",
    "This study measures the presence of water through the modified normalised difference water index (MNDWI) and clorophyll-*a* through the normalised difference clorophyll index (NDCI).\n",
    "\n",
    "MNDWI is calculated from the green and shortwave infrared (SWIR) bands to identify water.\n",
    "The formula is\n",
    "\n",
    "$$\n",
    "\\begin{aligned}\n",
    "\\text{MNDWI} = \\frac{\\text{Green} - \\text{SWIR}}{\\text{Green} + \\text{SWIR}}.\n",
    "\\end{aligned}\n",
    "$$\n",
    "\n",
    "When interpreting this index, values greater than 0 indicate water.\n",
    "\n",
    "NDCI is calculated from the red edge 1 and red bands to identify water.\n",
    "The formula is\n",
    "\n",
    "$$\n",
    "\\begin{aligned}\n",
    "\\text{NDCI} = \\frac{\\text{Red edge 1} - \\text{Red}}{\\text{Red edge 1} + \\text{Red}}.\n",
    "\\end{aligned}\n",
    "$$\n",
    "\n",
    "When interpreting this index, high values indicate the presence of clorophyll-*a*."
   ]
  },
  {
   "cell_type": "code",
   "execution_count": null,
   "metadata": {},
   "outputs": [],
   "source": [
    "# Calculate MNDWI and add it to the loaded data set\n",
    "ds_s2[\"MNDWI\"] = (ds_s2.green - ds_s2.swir_1)/(ds_s2.green + ds_s2.swir_1)\n",
    "\n",
    "# Calculate NDCI and add it to the loaded data set\n",
    "ds_s2[\"NDCI\"] = (ds_s2.red_edge_1 - ds_s2.red)/(ds_s2.red_edge_1 + ds_s2.red)"
   ]
  },
  {
   "cell_type": "markdown",
   "metadata": {},
   "source": [
    "The MNDWI and NDCI values should now appear as data variables, along with the loaded measurements, in the `ds_s2` data set.\n",
    "Check this by printing the data set below:"
   ]
  },
  {
   "cell_type": "code",
   "execution_count": null,
   "metadata": {},
   "outputs": [],
   "source": [
    "ds_s2"
   ]
  },
  {
   "cell_type": "markdown",
   "metadata": {},
   "source": [
    "## Build summary plot\n",
    "To get an understanding of how the waterbody has changed over time, the following section builds a plot that uses the MNDWI to measure the rough area of the waterbody, along with the NDCI to track how the concentration of clorophyll-*a* is changing over time.\n",
    "This could be used to quickly assess the status of a given waterbody."
   ]
  },
  {
   "cell_type": "markdown",
   "metadata": {},
   "source": [
    "### Set up constants\n",
    "The number of pixels classified as water (MNDWI > 0) can be used as a proxy for the area of the waterbody if the pixel area is known. \n",
    "Run the following cell to generate the necessary constants for performing this conversion."
   ]
  },
  {
   "cell_type": "code",
   "execution_count": null,
   "metadata": {},
   "outputs": [],
   "source": [
    "# Constants for calculating waterbody area\n",
    "pixel_length = query[\"resolution\"][1]  # in metres\n",
    "m_per_km = 1000  # conversion from metres to kilometres\n",
    "\n",
    "area_per_pixel = pixel_length**2 / m_per_km**2"
   ]
  },
  {
   "cell_type": "markdown",
   "metadata": {},
   "source": [
    "### Compute the total water area\n",
    "The next cell starts by filtering the data set to only keep the pixels that are classified as water. \n",
    "It then calculates the water area by counting all of the MNDWI pixels in the filtered data set, calculating a rolling median (this helps smooth the results to account for variation from cloud-masking), then multiplies this median count by the area-per-pixel."
   ]
  },
  {
   "cell_type": "code",
   "execution_count": null,
   "metadata": {},
   "outputs": [],
   "source": [
    "# Filter the data to contain only pixels classified as water\n",
    "ds_s2_waterarea = ds_s2.where(ds_s2.MNDWI > 0.0)\n",
    "\n",
    "# Calculate the total water area (in km^2)\n",
    "waterarea = (\n",
    "    ds_s2_waterarea.MNDWI.count(dim=[\"x\", \"y\"])\n",
    "    .rolling(time=3, center=True, min_periods=1)\n",
    "    .median(skipna=True)\n",
    "    * area_per_pixel\n",
    ")\n",
    "\n",
    "# Plot the resulting water area through time\n",
    "fig, axes = plt.subplots(1, 1, figsize=(12, 4))\n",
    "waterarea.plot()\n",
    "axes.set_xlabel(\"Date\")\n",
    "axes.set_ylabel(\"Waterbody area (km$^2$)\")\n",
    "plt.show()"
   ]
  },
  {
   "cell_type": "markdown",
   "metadata": {},
   "source": [
    "### Compute the average NDCI\n",
    "The next cell computes the average NDCI for each time step using the filtered data set.\n",
    "This means that we're only tracking the NDCI in waterbody areas, and not on any land.\n",
    "To make the summary plot, we calculate NDCI across all pixels; this allows us to track overall changes in NDCI, but doesn't tell us where the increase occured within the waterbody (this is covered in the next section)."
   ]
  },
  {
   "cell_type": "code",
   "execution_count": null,
   "metadata": {},
   "outputs": [],
   "source": [
    "# Calculate the average NDCI\n",
    "average_ndci = ds_s2_waterarea.NDCI.mean(dim=[\"x\", \"y\"], skipna=True)\n",
    "\n",
    "# Plot average NDCI through time\n",
    "fig, axes = plt.subplots(1, 1, figsize=(12, 4))\n",
    "average_ndci.plot()\n",
    "axes.set_xlabel(\"Date\")\n",
    "axes.set_ylabel(\"Average NDCI\")\n",
    "plt.show()"
   ]
  },
  {
   "cell_type": "markdown",
   "metadata": {},
   "source": [
    "### Combine the data to build the summary plot\n",
    "The cell below combines the total water area and average NDCI time series we generated above into a single summary plot. \n",
    "Notice that Python can be used to build highly-customised plots.\n",
    "If you're interested, take some time to understand how the plot is built.\n",
    "Otherwise, run the cell to build the plot."
   ]
  },
  {
   "cell_type": "code",
   "execution_count": null,
   "metadata": {},
   "outputs": [],
   "source": [
    "# Set up the figure\n",
    "fig, axes = plt.subplots(1, 1, figsize=(12, 4))\n",
    "\n",
    "# Set the colour map to use and the normalisation. NDCI is plotted on a scale\n",
    "# of -0.1 to 0.3, so the colour map is normalised to these values\n",
    "min_ndci_scale = -0.1\n",
    "max_ndci_scale = 0.3\n",
    "cmap = plt.get_cmap(\"viridis\")\n",
    "normal = plt.Normalize(vmin=min_ndci_scale, vmax=max_ndci_scale)\n",
    "\n",
    "# Store the dates from the data set as numbers for ease of plotting\n",
    "dates = matplotlib.dates.date2num(ds_s2_waterarea.time.values)\n",
    "\n",
    "# Add the basic plot to the figure\n",
    "# This is just a line showing the area of the waterbody over time\n",
    "axes.plot_date(x=dates, y=waterarea, color=\"black\", linestyle=\"-\", marker=\"\")\n",
    "\n",
    "# Fill in the plot by looping over the possible threshold values and filling\n",
    "# the areas that are greater than the threshold\n",
    "color_vals = np.linspace(0, 1, 100)\n",
    "threshold_vals = np.linspace(min_ndci_scale, max_ndci_scale, 100)\n",
    "for ii, thresh in enumerate(threshold_vals):\n",
    "    im = axes.fill_between(dates,\n",
    "                           0,\n",
    "                           waterarea,\n",
    "                           where=(average_ndci >= thresh),\n",
    "                           norm=normal,\n",
    "                           facecolor=cmap(color_vals[ii]),\n",
    "                           alpha=1)\n",
    "\n",
    "# Add the colour bar to the plot\n",
    "cax, _ = matplotlib.colorbar.make_axes(axes)\n",
    "cb2 = matplotlib.colorbar.ColorbarBase(cax, cmap=cmap, norm=normal)\n",
    "cb2.set_label(\"NDCI\")\n",
    "\n",
    "# Add titles and labels to the plot\n",
    "axes.set_xlabel(\"Date\")\n",
    "axes.set_ylabel(\"Waterbody area (km$^2$)\")\n",
    "plt.show()"
   ]
  },
  {
   "cell_type": "markdown",
   "metadata": {},
   "source": [
    "What does the plot reveal about the waterbody? \n",
    "Are there periods that show high NDCI values?"
   ]
  },
  {
   "cell_type": "markdown",
   "metadata": {},
   "source": [
    "## Compare spatial NDCI at two different dates\n",
    "While the summary plot is useful at a glance it can be interesting to see the full spatial picture at times where the NDCI is low vs. high.\n",
    "The code below defines two useful functions: `closest_date` will find the date in a list of dates closest to any given date; `date_index` will return the position of a particular date in a list of dates. \n",
    "These functions are useful for selecting images to compare. "
   ]
  },
  {
   "cell_type": "code",
   "execution_count": null,
   "metadata": {},
   "outputs": [],
   "source": [
    "def closest_date(list_of_dates, desired_date):\n",
    "    return min(list_of_dates,\n",
    "               key=lambda x: abs(x - np.datetime64(desired_date)))\n",
    "\n",
    "def date_index(list_of_dates, known_date):\n",
    "    return (np.where(list_of_dates == known_date)[0][0])"
   ]
  },
  {
   "cell_type": "markdown",
   "metadata": {},
   "source": [
    "Run the cell below to set two dates to compare.\n",
    "Feel free to change the dates to look at the NDCI of the waterbody at different times."
   ]
  },
  {
   "cell_type": "code",
   "execution_count": null,
   "metadata": {},
   "outputs": [],
   "source": [
    "# Set the dates to view\n",
    "date_1 = \"2020-04-15\"\n",
    "date_2 = \"2020-05-15\"\n",
    "\n",
    "# Compute the closest date available from the data set\n",
    "closest_date_1 = closest_date(ds_s2.time.values, date_1)\n",
    "closest_date_2 = closest_date(ds_s2.time.values, date_2)\n",
    "\n",
    "# Make an xarray containing the closest dates, which is used to select\n",
    "# the dates from the data set\n",
    "time_xr = xr.DataArray([closest_date_1, closest_date_2], dims=[\"time\"])\n",
    "\n",
    "# Plot the NDCI values for pixels classified as water for the two dates.\n",
    "ds_s2_waterarea.NDCI.sel(time=time_xr).plot.imshow(\"x\",\n",
    "                                                   \"y\",\n",
    "                                                   col=\"time\",\n",
    "                                                   cmap=cmap,\n",
    "                                                   vmin=min_ndci_scale,\n",
    "                                                   vmax=max_ndci_scale,\n",
    "                                                   col_wrap=2,\n",
    "                                                   figsize=(12, 5))\n",
    "plt.show()"
   ]
  },
  {
   "cell_type": "markdown",
   "metadata": {},
   "source": [
    "Run the cell below to see the true-colour images for the same dates"
   ]
  },
  {
   "cell_type": "code",
   "execution_count": null,
   "metadata": {},
   "outputs": [],
   "source": [
    "# Compute the index of the closest dates\n",
    "closest_date_1_idx = date_index(ds_s2.time.values, closest_date_1)\n",
    "closest_date_2_idx = date_index(ds_s2.time.values, closest_date_2)\n",
    "\n",
    "# Make the true colour plots for the closest dates\n",
    "rgb(ds_s2, bands=[\"red\", \"green\", \"blue\"], index=[closest_date_1_idx, closest_date_2_idx])"
   ]
  },
  {
   "cell_type": "markdown",
   "metadata": {},
   "source": [
    "## Drawing conclusions\n",
    "Here are some questions to think about:\n",
    "\n",
    "* How well do increased NDCI values match with what you see in the true-colour images?\n",
    "* When would it be more helpful to use the summary plot vs. the time comparison plot and vice-versa?\n",
    "* What does the water look like in the true-colour image when the NDCI is low-to-medium vs. high?\n",
    "* What other information might you seek if you detected an abnormally high NDCI value?"
   ]
  },
  {
   "cell_type": "markdown",
   "metadata": {},
   "source": [
    "## Next steps\n",
    "\n",
    "When you are done, return to the \"Analysis parameters\" section, modify some values (e.g. `latitude`, `longitude` or `time`) and rerun the analysis.\n",
    "You can use the interactive map in the \"View the selected location\" section to find new central latitude and longitude values by panning and zooming, and then clicking on the area you wish to extract location values for.\n",
    "You can also use Google maps to search for a location you know, then return the latitude and longitude values by clicking the map."
   ]
  }
 ],
 "metadata": {
  "kernelspec": {
   "display_name": "Python 3 (ipykernel)",
   "language": "python",
   "name": "python3"
  },
  "language_info": {
   "codemirror_mode": {
    "name": "ipython",
    "version": 3
   },
   "file_extension": ".py",
   "mimetype": "text/x-python",
   "name": "python",
   "nbconvert_exporter": "python",
   "pygments_lexer": "ipython3",
   "version": "3.8.10"
  },
  "widgets": {
   "application/vnd.jupyter.widget-state+json": {
    "state": {},
    "version_major": 2,
    "version_minor": 0
   }
  }
 },
 "nbformat": 4,
 "nbformat_minor": 4
}
