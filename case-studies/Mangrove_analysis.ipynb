{
 "cells": [
  {
   "cell_type": "markdown",
   "metadata": {},
   "source": [
    "# Monitoring Mangrove Extents"
   ]
  },
  {
   "cell_type": "markdown",
   "metadata": {},
   "source": [
    "## Background\n",
    "[Global Mangrove Watch (GMW)](https://www.globalmangrovewatch.org/) is an initiative to track global mangrove extents. Using ALOS PALSAR and Landsat (optical) data to form a baseline extent of mangroves for the years 1996, 2007, 2008, 2009, 2010, 2015, and 2016 . More detailed information on the initiative can be found [here](http://data.unep-wcmc.org/datasets/45).\n"
   ]
  },
  {
   "cell_type": "markdown",
   "metadata": {},
   "source": [
    "## Description\n",
    "The goal of this notebook is to monitor the changing extent of mangroves, using the GMW layers as a baseline mask.\n",
    "\n",
    "The process begins with retrieving Sentnel-2 data for a specific area in a time series. This dataset is then compressed into a median composite for each year. From the composite, we then calculate the NDVI values of each pixel in each year. The dataset is then masked, and the NDVI threshold is applied for mangrove classification. The following image shows the decision tree for the classification.\n",
    "\n",
    "<img align=\"center\" src=\"../resources/mangrove_decision_tree.png\" width=600>\n",
    "\n",
    "After classification, we can perform a variety of analyses on the data:\n",
    "- We can estimate the change in mangrove areas by counting all the classified pixels for each year and plotting the trend line of the count. \n",
    "- We can also visualize the mangrove areas by plotting each classified pixel a certain color. "
   ]
  },
  {
   "cell_type": "markdown",
   "metadata": {},
   "source": [
    "## Getting started\n",
    "\n",
    "**To run this analysis**, run all the cells in the notebook, starting with the [Load packages](#Load-packages) cell.\n",
    "\n",
    "**After finishing the analysis**, return to the [Analysis parameters](#Analysis-parameters) cell, modify some values (e.g. choose a your own mangrove shapefile or time period to analyse) and re-run the analysis."
   ]
  },
  {
   "cell_type": "markdown",
   "metadata": {},
   "source": [
    "### Load packages"
   ]
  },
  {
   "cell_type": "code",
   "execution_count": null,
   "metadata": {},
   "outputs": [],
   "source": [
    "%matplotlib inline\n",
    "\n",
    "import warnings\n",
    "import datacube\n",
    "from datacube.utils import masking\n",
    "import numpy as np\n",
    "import pandas as pd\n",
    "import xarray as xr\n",
    "import geopandas as gpd\n",
    "from requests import Request\n",
    "import matplotlib.pyplot as plt\n",
    "from datacube.utils import geometry\n",
    "from matplotlib.patches import Patch\n",
    "from matplotlib.colors import ListedColormap\n",
    "# from deafrica_tools.bandindices import calculate_indices\n",
    "#from dea_tools.coastal import tidal_tag\n",
    "#from dea_tools.dask import create_local_dask_cluster\n",
    "#from deafrica_tools.datahandling import load_ard\n",
    "from dea_tools.plotting import display_map"
   ]
  },
  {
   "cell_type": "code",
   "execution_count": null,
   "metadata": {},
   "outputs": [],
   "source": [
    "from dea_tools.datahandling import mostcommon_crs"
   ]
  },
  {
   "cell_type": "markdown",
   "metadata": {
    "tags": []
   },
   "source": [
    "### Set up a Dask cluster\n",
    "\n",
    "Dask can be used to better manage memory use down and conduct the analysis in parallel. \n",
    "For an introduction to using Dask with Digital Earth Africa, see the [Dask notebook](../Beginners_guide/08_Parallel_processing_with_dask.ipynb).\n",
    "\n",
    ">**Note**: We recommend opening the Dask processing window to view the different computations that are being executed; to do this, see the *Dask dashboard in DE Africa* section of the [Dask notebook](../Beginners_guide/08_Parallel_processing_with_dask.ipynb).\n",
    "\n",
    "To use Dask, set up the local computing cluster using the cell below."
   ]
  },
  {
   "cell_type": "code",
   "execution_count": null,
   "metadata": {},
   "outputs": [],
   "source": [
    "# from dask.distributed import Client, LocalCluster\n",
    "\n",
    "# # Connect to an existing LocalCluster if available\n",
    "# # The default port is 8786\n",
    "# try:\n",
    "#     # This creates a new Client connection to an existing Dask scheduler if one exists.\n",
    "#     # There is no practical way to get the LocalCluster object from the existing scheduler,\n",
    "#     # although the scheduler details can be accessed with `client.scheduler`.\n",
    "#     # The LocalCluster object is only available from the notebook that created it.\n",
    "#     # Restart the kernel or `client.close();cluster.close()` in each notebook that\n",
    "#     # created one to remove existing LocalClusters.\n",
    "#     client = Client(f'localhost:8786', timeout='2s')\n",
    "#     cluster = client.cluster  # None\n",
    "# except:\n",
    "#     cluster = LocalCluster(scheduler_port=8786)\n",
    "#     client = Client(cluster)\n",
    "\n",
    "# display(cluster if cluster else client)\n",
    "\n",
    "from datacube.utils.dask import start_local_dask\n",
    "\n",
    "client = start_local_dask()\n",
    "\n",
    "display(client)"
   ]
  },
  {
   "cell_type": "markdown",
   "metadata": {},
   "source": [
    "### Load the data\n",
    "\n",
    "Connect to the datacube database and set up a processing cluster."
   ]
  },
  {
   "cell_type": "code",
   "execution_count": null,
   "metadata": {},
   "outputs": [],
   "source": [
    "dc = datacube.Datacube(app=\"Mangrove\")"
   ]
  },
  {
   "cell_type": "markdown",
   "metadata": {},
   "source": [
    "### Analysis parameters\n",
    "\n",
    "* `lat, lon, buffer`: center lat/lon and analysis window size for the area of interest\n",
    "* `product_name`: The name of the satellite product to use.\n",
    "* `time_range`: The date range to analyse (e.g. `(\"2017\", \"2020\")`).\n",
    "* `tide_range`: The minimum and maximum proportion of the tidal range to include in the analysis. For example, `tide_range = (0.25, 0.75)` will select all satellite images taken during mid-tide conditions (i.e. 25th to 75th percentile range). This allows us to remove any impact of tides on the classification of mangrove extent. Also, because Sentinel-2 is a sun-synchronoous sensor, the mid-tide is observed more than low and high tides, therefore it is advantageous to use the mid-tide extent as we will retain more satellite images.\n",
    "\n",
    "**If running the notebook for the first time**, keep the default settings below.\n",
    "This will demonstrate how the analysis works and provide meaningful results.\n"
   ]
  },
  {
   "cell_type": "code",
   "execution_count": null,
   "metadata": {},
   "outputs": [],
   "source": [
    "top, left = 10.528825, 106.863282\n",
    "bottom, right = 10.466140, 106.950428\n",
    "\n",
    "lat_range = (bottom, top)\n",
    "lon_range = (left, right)\n",
    "\n",
    "product_name = \"s2_l2a\"\n",
    "\n",
    "time_range = (\"2017\", \"2019\")\n",
    "\n",
    "#tide_range = (0.25, 0.75) # only keep mid tides"
   ]
  },
  {
   "cell_type": "markdown",
   "metadata": {},
   "source": [
    "### View the selected location\n",
    "\n",
    "The next cell will display the selected area on an interactive map. Feel free to zoom in and out to get a better understanding of the area you'll be analysing. Clicking on any point of the map will reveal the latitude and longitude coordinates of that point."
   ]
  },
  {
   "cell_type": "code",
   "execution_count": null,
   "metadata": {},
   "outputs": [],
   "source": [
    "display_map(lon_range, lat_range)"
   ]
  },
  {
   "cell_type": "markdown",
   "metadata": {},
   "source": [
    "## Load cloud-masked Sentinel-2 data\n",
    "\n",
    "The code below uses the `load_ard` function to load in data from the Sentinel-2 satellites for the area and time specified.\n",
    "For more information, see the [Using load_ard notebook](../Frequently_used_code/Using_load_ard.ipynb).\n",
    "The function will also automatically mask out clouds from the dataset, allowing us to focus on pixels that contain useful data:"
   ]
  },
  {
   "cell_type": "code",
   "execution_count": null,
   "metadata": {},
   "outputs": [],
   "source": [
    "# General query\n",
    "query = {\n",
    "    \"time\": time_range,\n",
    "    'x': lon_range,\n",
    "    'y': lat_range,\n",
    "}\n",
    "\n",
    "# Identify the most common CRS\n",
    "common_crs = mostcommon_crs(dc, product_name, query)\n",
    "print(f\"Selected CRS: {common_crs}\")\n",
    "\n",
    "# Update the query with additional parameters\n",
    "query.update(\n",
    "    {\n",
    "        \"product\": product_name,\n",
    "        \"measurements\": [\"red\", \"nir_1\", \"mask\"],\n",
    "        \"group_by\": \"solar_day\",\n",
    "        \"resolution\": (-10, 10),\n",
    "        \"output_crs\": common_crs,\n",
    "        \"dask_chunks\": {\"time\": 1, \"x\": 350, \"y\": 350}\n",
    "    }\n",
    ")"
   ]
  },
  {
   "cell_type": "code",
   "execution_count": null,
   "metadata": {},
   "outputs": [],
   "source": [
    "ds_s2 = dc.load(**query)\n",
    "\n",
    "ds_s2"
   ]
  },
  {
   "cell_type": "markdown",
   "metadata": {
    "tags": []
   },
   "source": [
    "### Masking\n",
    "\n",
    "Clouds, cloud shadows, and other invalid pixels need to be removed before conducting the analysis.\n",
    "\n",
    "The first step in masking is to identify the information in the masking band. This can be done using the `masking.describe_variable_flags)` function:"
   ]
  },
  {
   "cell_type": "code",
   "execution_count": null,
   "metadata": {},
   "outputs": [],
   "source": [
    "masking.describe_variable_flags(ds_s2.mask)"
   ]
  },
  {
   "cell_type": "markdown",
   "metadata": {},
   "source": [
    "For Sentinel-2 in the Asia EASI Hub, the masking information is stored in the **values** column of the **qa** row in this dataframe. To get a better look at the types of pixel classifications this mask has, we can display the values column:"
   ]
  },
  {
   "cell_type": "code",
   "execution_count": null,
   "metadata": {},
   "outputs": [],
   "source": [
    "masking.describe_variable_flags(ds_s2.mask).loc[\"qa\", \"values\"]"
   ]
  },
  {
   "cell_type": "markdown",
   "metadata": {},
   "source": [
    "We can now construct a mask of valid pixel classes. In this case, we say that `vegetation`, `bare soils`, `water`, or `snow or ice` are valid, cloud-free pixels:"
   ]
  },
  {
   "cell_type": "code",
   "execution_count": null,
   "metadata": {},
   "outputs": [],
   "source": [
    "# Multiple flags are combined as logial OR using the | symbol\n",
    "cloud_free_mask = (\n",
    "    masking.make_mask(ds_s2.mask, qa=\"vegetation\") | \n",
    "    masking.make_mask(ds_s2.mask, qa=\"bare soils\") |\n",
    "    masking.make_mask(ds_s2.mask, qa=\"water\") |\n",
    "    masking.make_mask(ds_s2.mask, qa=\"snow or ice\")\n",
    ")"
   ]
  },
  {
   "cell_type": "markdown",
   "metadata": {},
   "source": [
    "The final step is to mask the data."
   ]
  },
  {
   "cell_type": "code",
   "execution_count": null,
   "metadata": {},
   "outputs": [],
   "source": [
    "# Mask the data\n",
    "ds_s2 = ds_s2.where(cloud_free_mask)"
   ]
  },
  {
   "cell_type": "code",
   "execution_count": null,
   "metadata": {},
   "outputs": [],
   "source": [
    "# View the loaded data\n",
    "\n",
    "ds_s2"
   ]
  },
  {
   "cell_type": "markdown",
   "metadata": {},
   "source": [
    "## Load in the Global Mangrove Watch\n",
    "\n",
    "Below we load the latest GMW layer, which is from 2016. We send a query to the [EASI Geoserver](https://geoserver.asia.easi-eo.solutions/), requesting the data using the `wfs_request_params` dictionary below."
   ]
  },
  {
   "cell_type": "code",
   "execution_count": null,
   "metadata": {},
   "outputs": [],
   "source": [
    "WFS_URL = \"https://geoserver.asia.easi-eo.solutions/geoserver/ows?\"\n",
    "WFS_LAYER = \"unep-wcmc:GMW_2016_v2\"\n",
    "\n",
    "wfs_request_params = {\n",
    "    \"service\": \"WFS\",\n",
    "    \"version\": \"1.0.0\",\n",
    "    \"request\": \"GetFeature\",\n",
    "    \"typeName\": WFS_LAYER,\n",
    "    \"outputFormat\": \"json\",\n",
    "    \"bbox\": f\"{left},{bottom},{right},{top},EPSG:4326\"\n",
    "}\n",
    "\n",
    "# Parse the URL with parameters\n",
    "request_url = Request(\"GET\", WFS_URL, params=wfs_request_params).prepare().url\n",
    "\n",
    "# Read the data\n",
    "data = gpd.read_file(request_url)\n",
    "\n",
    "# Examine first five rows of the data\n",
    "data.head()"
   ]
  },
  {
   "cell_type": "code",
   "execution_count": null,
   "metadata": {},
   "outputs": [],
   "source": [
    "# Display loaded data on interactive map\n",
    "data.explore()"
   ]
  },
  {
   "cell_type": "markdown",
   "metadata": {
    "tags": []
   },
   "source": [
    "## Model tide heights\n",
    "\n",
    "The location of the shoreline can vary greatly from low to high tide, which may impact the NDVI values of pixels where water and mangroves intermingle. In the code below, we aim to reduce the effect of tides by modelling tide height data, and keeping only the satellite images that were taken at specific tidal conditions. For example, if `tide_range = (0.00, 0.50)`, we are telling the analysis to focus only on satellite images taken when the tide was between the lowest tidal conditions and the median (50th percentile) conditions.\n",
    "\n",
    "The tidal_tag function below uses the [OTPS TPXO8 tidal model](https://www.tpxo.net/global/tpxo8-atlas) to calculate the height of the tide at the exact moment each satellite image in our dataset was taken, and adds this as a new tide_height attribute in our dataset.\n",
    "\n",
    "> **Important note**: this function can only model tides correctly if the centre of your study area is located over water. If this isn't the case, you can specify a custom tide modelling location by passing a coordinate to `tidepost_lat` and `tidepost_lon` (e.g. tidepost_lat=14.283, tidepost_lon=-16.921).  If you are not running the default analysis, then either change the `tidepost_lat` and `tidepost_lon` below to a location over the ocean near your study-area, or try setting them to `None` and see if the code can infer the location of your study-area\n"
   ]
  },
  {
   "cell_type": "code",
   "execution_count": null,
   "metadata": {},
   "outputs": [],
   "source": [
    "# tidepost_lat=11.7443\n",
    "# tidepost_lon=-15.9949"
   ]
  },
  {
   "cell_type": "code",
   "execution_count": null,
   "metadata": {},
   "outputs": [],
   "source": [
    "# # Calculate tides for each timestep in the satellite dataset\n",
    "# ds = tidal_tag(ds=ds, tidepost_lat=tidepost_lat, tidepost_lon=tidepost_lon)\n",
    "\n",
    "# # Print the output dataset with new `tide_height` variable\n",
    "# print(ds)"
   ]
  },
  {
   "cell_type": "code",
   "execution_count": null,
   "metadata": {},
   "outputs": [],
   "source": [
    "# # Calculate the min and max tide heights to include based on the % range\n",
    "# min_tide, max_tide = ds.tide_height.quantile(tide_range)\n",
    "\n",
    "# # Plot the resulting tide heights for each Landsat image:\n",
    "# ds.tide_height.plot()\n",
    "# plt.axhline(min_tide, c=\"red\", linestyle=\"--\")\n",
    "# plt.axhline(max_tide, c=\"red\", linestyle=\"--\")\n",
    "# plt.show()"
   ]
  },
  {
   "cell_type": "markdown",
   "metadata": {},
   "source": [
    "### Filter satellite images by tide height\n",
    "\n",
    "Here we take the dataset and only keep the images with tide heights we want to analyse (i.e. tides within the heights given by `tide_range`). This will result in a smaller number of images.\n"
   ]
  },
  {
   "cell_type": "code",
   "execution_count": null,
   "metadata": {},
   "outputs": [],
   "source": [
    "# # Keep timesteps larger than the min tide, and smaller than the max tide\n",
    "# ds_filtered = ds.sel(time=(ds.tide_height > min_tide) & (ds.tide_height <= max_tide))\n",
    "# print(ds_filtered)"
   ]
  },
  {
   "cell_type": "markdown",
   "metadata": {},
   "source": [
    "## Combine observations into noise-free summary images\n",
    "\n",
    "In the code below, we take the time series of images and combine them into single images for each year using the `median NDVI`. The *Normalised Difference Vegetation Index* (NDVI) shows vegetation and is used for mangrove classification within the mangrove mask.\n",
    "\n",
    "$$\n",
    "\\begin{aligned}\n",
    "\\text{NDVI} & = \\frac{(\\text{NIR} - \\text{Red})}{(\\text{NIR} + \\text{Red})} \\\\\n",
    "\\end{aligned}\n",
    "$$\n",
    "\n",
    "For more information on indices, see the [Calculating Band Indices](../Frequently_used_code/Calculating_band_indices.ipynb) notebook.\n",
    "\n",
    "\n",
    "> Note: This step can take several minutes to load if the study area is large. We recommend opening the Dask processing window to view the different computations that are being executed; to do this, see the Dask dashboard in DE Africa section of the Dask notebook."
   ]
  },
  {
   "cell_type": "code",
   "execution_count": null,
   "metadata": {},
   "outputs": [],
   "source": [
    "# Calculate MNDWI and add it to the loaded data set\n",
    "ds_s2[\"NDVI\"] = (ds_s2.nir_1 - ds_s2.red)/(ds_s2.nir_1 + ds_s2.red)"
   ]
  },
  {
   "cell_type": "code",
   "execution_count": null,
   "metadata": {},
   "outputs": [],
   "source": [
    "# generate median annual summaries of NDVI\n",
    "ds_summaries = ds_s2.NDVI.groupby(\"time.year\").median().compute()"
   ]
  },
  {
   "cell_type": "code",
   "execution_count": null,
   "metadata": {},
   "outputs": [],
   "source": [
    "# Plot the output summary images\n",
    "ds_summaries.plot(col=\"year\", cmap=\"YlGn\", col_wrap=len(ds_summaries.year.values), vmin=0, vmax=1.0);"
   ]
  },
  {
   "cell_type": "markdown",
   "metadata": {},
   "source": [
    "## Mangrove classification\n",
    "\n",
    "### Apply a mask of the mangrove area\n",
    "\n",
    "We will use the mangrove mask from the Global Mangrove Watch dataset so we can work with only the pixels in the mangrove area.  "
   ]
  },
  {
   "cell_type": "code",
   "execution_count": null,
   "metadata": {},
   "outputs": [],
   "source": [
    "# Rasterise the mask\n",
    "from dea_tools.spatial import xr_rasterize\n",
    "\n",
    "gmw = xr_rasterize(gdf=data,\n",
    "                   da=ds_summaries,\n",
    "                   transform=ds_summaries.geobox.transform,\n",
    "                   crs=ds_summaries.crs)\n",
    "\n"
   ]
  },
  {
   "cell_type": "code",
   "execution_count": null,
   "metadata": {},
   "outputs": [],
   "source": [
    "import rasterio\n",
    "\n",
    "crs = ds_summaries.geobox.crs\n",
    "transform = ds_summaries.geobox.transform\n",
    "\n",
    "dims = ds_summaries.geobox.dims\n",
    "\n",
    "xy_coords = [ds_summaries[dims[0]], ds_summaries[dims[1]]]\n",
    "y, x = ds_summaries.geobox.shape\n",
    "\n",
    "gdf_reproj = data.to_crs(crs=crs)\n",
    "\n",
    "shapes = gdf_reproj.geometry\n",
    "\n",
    "\n",
    "arr = rasterio.features.rasterize(shapes=shapes,\n",
    "                                  out_shape=(y, x),\n",
    "                                  transform=transform)\n",
    "        \n",
    "# Convert result to a xarray.DataArray\n",
    "xarr = xr.DataArray(arr,\n",
    "                    coords=xy_coords,\n",
    "                    dims=dims,\n",
    "                    attrs=ds_summaries.attrs)"
   ]
  },
  {
   "cell_type": "code",
   "execution_count": null,
   "metadata": {},
   "outputs": [],
   "source": [
    "xarr"
   ]
  },
  {
   "cell_type": "code",
   "execution_count": null,
   "metadata": {},
   "outputs": [],
   "source": [
    "# Mask dataset to set pixels outside the GMW layer to `NaN`\n",
    "ds_summaries_masked = ds_summaries.where(xarr)"
   ]
  },
  {
   "cell_type": "code",
   "execution_count": null,
   "metadata": {},
   "outputs": [],
   "source": [
    "# Plot the output summary images\n",
    "ds_summaries_masked.plot(col=\"year\", cmap=\"YlGn\", col_wrap=len(ds_summaries.year.values), vmin=0, vmax=1.0);"
   ]
  },
  {
   "cell_type": "markdown",
   "metadata": {},
   "source": [
    "### Calculating regular and closed mangroves\n",
    "\n",
    "Using the [mangrove decision tree](#Description) above, we can classify the pixels as:\n",
    "\n",
    "* **mangroves:** pixels in the mangrove area with an `NDVI > 0.4`\n",
    "    * **regular mangroves:** mangroves with `NDVI <= 0.7`\n",
    "    * **closed mangroves:** mangroves with `NDVI > 0.7`"
   ]
  },
  {
   "cell_type": "code",
   "execution_count": null,
   "metadata": {},
   "outputs": [],
   "source": [
    "all_mangroves = xr.where(ds_summaries_masked > 0.4, 1, np.nan)\n",
    "\n",
    "regular_mangroves = all_mangroves.where(ds_summaries_masked <= 0.7)\n",
    "closed_mangroves = all_mangroves.where(ds_summaries_masked > 0.7)"
   ]
  },
  {
   "cell_type": "markdown",
   "metadata": {},
   "source": [
    "### Plot the mangrove types\n",
    "\n",
    "Again we will combine the mangrove types for easier plotting."
   ]
  },
  {
   "cell_type": "code",
   "execution_count": null,
   "metadata": {},
   "outputs": [],
   "source": [
    "mangroves = xr.concat(\n",
    "    [regular_mangroves, closed_mangroves, all_mangroves],\n",
    "    dim=pd.Index([\"regular\", \"closed\", \"total\"], name=\"mangrove_type\"),\n",
    ")\n",
    "\n",
    "regular_color = \"gold\"\n",
    "closed_color = \"green\"\n",
    "\n",
    "# Create a FacetGrid, so there is a subplot for each year\n",
    "grid = xr.plot.FacetGrid(\n",
    "    mangroves,\n",
    "    col=\"year\",\n",
    "    col_wrap=len(ds_summaries.year.values),\n",
    "    size=6,\n",
    "    aspect=mangroves.x.size / mangroves.y.size,\n",
    ")\n",
    "\n",
    "# Define the sub-plot of mangrove types with a legend on a background of grey-scale NDVI\n",
    "def plot_mangrove(data, ax, **kwargs):\n",
    "    ds_summaries.sel(year=data.year).plot.imshow(\n",
    "        ax=ax, cmap=\"Greys\", vmin=-1, vmax=1, add_colorbar=False, add_labels=False\n",
    "    )\n",
    "    data.sel(mangrove_type=\"regular\").plot.imshow(\n",
    "        ax=ax,\n",
    "        cmap=ListedColormap([regular_color]),\n",
    "        add_colorbar=False,\n",
    "        add_labels=False,\n",
    "    )\n",
    "    data.sel(mangrove_type=\"closed\").plot.imshow(\n",
    "        ax=ax, cmap=ListedColormap([closed_color]), add_colorbar=False, add_labels=False\n",
    "    )\n",
    "\n",
    "    ax.legend(\n",
    "        [Patch(facecolor=regular_color), Patch(facecolor=closed_color)],\n",
    "        [\"Regular\", \"Closed\"],\n",
    "        loc=\"lower right\",\n",
    "    )\n",
    "\n",
    "# Plot the each year sub-plot\n",
    "grid.map_dataarray(plot_mangrove, x=\"x\", y=\"y\", add_colorbar=False)\n",
    "\n",
    "# Update sub-plot titles\n",
    "for i, name in np.ndenumerate(grid.name_dicts):\n",
    "    grid.axes[i].title.set_text(str(name[\"year\"]));"
   ]
  },
  {
   "cell_type": "markdown",
   "metadata": {},
   "source": [
    "## Mangrove change\n",
    "### Plot the change of mangrove classification in area over time"
   ]
  },
  {
   "cell_type": "code",
   "execution_count": null,
   "metadata": {},
   "outputs": [],
   "source": [
    "# Convert pixel count to km^2\n",
    "m2_per_ha = 10000\n",
    "m2_per_pixel = query[\"resolution\"][1] ** 2\n",
    "mangrove_area = mangroves.sum(dim=(\"x\", \"y\")) * m2_per_pixel / m2_per_ha\n",
    "\n",
    "# Fix axis and legend text\n",
    "mangrove_area.name = r\"Area (Ha)\"\n",
    "mangrove_area = mangrove_area.rename(mangrove_type=\"Mangrove type\")\n",
    "\n",
    "# Plot the line graph\n",
    "mangrove_area.plot(\n",
    "    hue=\"Mangrove type\",\n",
    "    x=\"year\",\n",
    "    xticks=mangrove_area.year,\n",
    "    size=6,\n",
    "    linestyle=\"--\",\n",
    "    marker=\"o\",\n",
    ")\n",
    "plt.title(\"Mangrove classification over time\");"
   ]
  },
  {
   "cell_type": "markdown",
   "metadata": {},
   "source": [
    "### Monitoring change in mangroves\n",
    "\n",
    "We can calculate the growth and loss of mangroves between the first and last year in our timeseries"
   ]
  },
  {
   "cell_type": "code",
   "execution_count": null,
   "metadata": {},
   "outputs": [],
   "source": [
    "total_mangroves = (mangroves.loc[\"total\"] == 1).astype(int)\n",
    "\n",
    "# Calculate the change in mangrove extent\n",
    "old = total_mangroves.isel(year=0)\n",
    "new = total_mangroves.isel(year=-1)\n",
    "change = new - old\n",
    "\n",
    "# reclassify into growth, loss and stable\n",
    "growth = xr.where(change == 1, 1, np.nan)\n",
    "loss = xr.where(change == -1, -1, np.nan)\n",
    "stable = old.where(~change)\n",
    "stable = xr.where(stable == 1, 1, np.nan)"
   ]
  },
  {
   "cell_type": "markdown",
   "metadata": {},
   "source": [
    "#### Plot the change"
   ]
  },
  {
   "cell_type": "code",
   "execution_count": null,
   "metadata": {},
   "outputs": [],
   "source": [
    "fig, ax = plt.subplots(1, 1, figsize=(12, 12))\n",
    "\n",
    "ds_summaries.isel(year=0).plot.imshow(\n",
    "    ax=ax, cmap=\"Greys\", vmin=-1, vmax=1, add_colorbar=False, add_labels=False\n",
    ")\n",
    "stable.plot(\n",
    "    ax=ax, cmap=ListedColormap([\"palegoldenrod\"]), add_colorbar=False, add_labels=False\n",
    ")\n",
    "growth.squeeze().plot.imshow(\n",
    "    ax=ax, cmap=ListedColormap([\"lime\"]), add_colorbar=False, add_labels=False\n",
    ")\n",
    "loss.plot.imshow(\n",
    "    ax=ax, cmap=ListedColormap([\"fuchsia\"]), add_colorbar=False, add_labels=False\n",
    ")\n",
    "ax.legend(\n",
    "    [\n",
    "        Patch(facecolor='lime'),\n",
    "        Patch(facecolor='fuchsia'),\n",
    "        Patch(facecolor=\"palegoldenrod\"),\n",
    "    ],\n",
    "    [\"New mangroves\", \"Loss of mangroves\", \"Stable mangroves\"],\n",
    "    loc=\"lower right\",\n",
    ")\n",
    "plt.title('Change in mangrove extent between {} and {}'.format(ds_summaries.year.values[0], ds_summaries.year.values[-1]));"
   ]
  },
  {
   "cell_type": "markdown",
   "metadata": {},
   "source": [
    "### Determine the net change between years"
   ]
  },
  {
   "cell_type": "code",
   "execution_count": null,
   "metadata": {},
   "outputs": [],
   "source": [
    "loss_count = loss.sum().values * m2_per_pixel / m2_per_ha\n",
    "gain_count = growth.sum().values * m2_per_pixel / m2_per_ha\n",
    "stable_count = stable.sum().values* m2_per_pixel / m2_per_ha\n",
    "\n",
    "counts = {\n",
    "          'Loss of Mangroves': loss_count,\n",
    "          'New Mangroves': gain_count,\n",
    "          'No Change': stable_count,\n",
    "          'Delta Change': gain_count + loss_count\n",
    "          }\n",
    "\n",
    "df = pd.DataFrame(counts, index=['Area (Ha)'])\n",
    "df.plot.barh(color=['tab:red','tab:green','tab:orange','tab:blue'])\n",
    "plt.title('Change in mangrove extent between {} and {}'.format(ds_summaries.year.values[0], ds_summaries.year.values[-1]));\n"
   ]
  },
  {
   "cell_type": "markdown",
   "metadata": {},
   "source": [
    "## Advanced: Compare Recent Mangrove Extent to GMW 1996\n",
    "\n",
    "In the previous plots, we were calculating the change in mangrove extent from the start of the Sentinel-2 time series (2017) until now (2021). However, the baseline mangrove extent map, the Global Mangrove Watch (GMW) layer goes all the way back to 1996. Thus, the mangrove extent may have change significantly between 1996 and the beginning of the Sentinel-2 archive.  We can use the GMW layer to inspect how mangrove extent has changed since the development of the 2016 product that we examined above. \n",
    "\n",
    "A word of caution here, the GMW product was developed using a different methodology to the one used here, so differences in mangrove extent may be attributable to the different methods. Nevertheless, this should still provide us with a reasonable indication of the changes that have occurred between 1996 and the beginning of the Sentinel-2 archive in 2017."
   ]
  },
  {
   "cell_type": "markdown",
   "metadata": {},
   "source": [
    "### Load the earliest GMW layer"
   ]
  },
  {
   "cell_type": "code",
   "execution_count": null,
   "metadata": {},
   "outputs": [],
   "source": [
    "WFS_URL = \"https://geoserver.asia.easi-eo.solutions/geoserver/ows?\"\n",
    "WFS_LAYER = \"unep-wcmc:GMW_1996_v2\"\n",
    "\n",
    "wfs_request_params = {\n",
    "    \"service\": \"WFS\",\n",
    "    \"version\": \"1.0.0\",\n",
    "    \"request\": \"GetFeature\",\n",
    "    \"typeName\": WFS_LAYER,\n",
    "    \"outputFormat\": \"json\",\n",
    "    \"bbox\": f\"{left},{bottom},{right},{top},EPSG:4326\"\n",
    "}\n",
    "\n",
    "# Parse the URL with parameters\n",
    "request_url = Request(\"GET\", WFS_URL, params=wfs_request_params).prepare().url\n",
    "\n",
    "# Read the data\n",
    "gmw_1996 = gpd.read_file(request_url)\n",
    "\n",
    "# Examine first five rows of the data\n",
    "gmw_1996.head()"
   ]
  },
  {
   "cell_type": "code",
   "execution_count": null,
   "metadata": {},
   "outputs": [],
   "source": [
    "crs = ds_summaries.geobox.crs\n",
    "transform = ds_summaries.geobox.transform\n",
    "\n",
    "dims = ds_summaries.geobox.dims\n",
    "\n",
    "xy_coords = [ds_summaries[dims[0]], ds_summaries[dims[1]]]\n",
    "y, x = ds_summaries.geobox.shape\n",
    "\n",
    "gdf_reproj = gmw_1996.to_crs(crs=crs)\n",
    "\n",
    "shapes = gdf_reproj.geometry\n",
    "\n",
    "\n",
    "arr = rasterio.features.rasterize(shapes=shapes,\n",
    "                                  out_shape=(y, x),\n",
    "                                  transform=transform)\n",
    "        \n",
    "# Convert result to a xarray.DataArray\n",
    "gmw_1996_raster = xr.DataArray(arr,\n",
    "                    coords=xy_coords,\n",
    "                    dims=dims,\n",
    "                    attrs=ds_summaries.attrs)"
   ]
  },
  {
   "cell_type": "markdown",
   "metadata": {
    "tags": []
   },
   "source": [
    "### Determine change between 1996 and 2017"
   ]
  },
  {
   "cell_type": "code",
   "execution_count": null,
   "metadata": {},
   "outputs": [],
   "source": [
    "#Find the change between now and the baseline\n",
    "baseline_change = old - gmw_1996_raster\n",
    "\n",
    "# reclassify into growth, loss and stable\n",
    "growth_bs = xr.where(baseline_change == 1, 1, np.nan)\n",
    "loss_bs = xr.where(baseline_change == -1, -1, np.nan)\n",
    "stable_bs = gmw_1996_raster.where(~baseline_change)\n",
    "stable_bs = xr.where(stable == 1, 1, np.nan)"
   ]
  },
  {
   "cell_type": "markdown",
   "metadata": {},
   "source": [
    "#### Plot the change"
   ]
  },
  {
   "cell_type": "code",
   "execution_count": null,
   "metadata": {},
   "outputs": [],
   "source": [
    "fig, ax = plt.subplots(1, 1, figsize=(12, 12))\n",
    "\n",
    "ds_summaries.isel(year=0).plot.imshow(\n",
    "    ax=ax, cmap=\"Greys\", vmin=-1, vmax=1, add_colorbar=False, add_labels=False\n",
    ")\n",
    "stable_bs.plot(\n",
    "    ax=ax, cmap=ListedColormap([\"palegoldenrod\"]), add_colorbar=False, add_labels=False\n",
    ")\n",
    "growth_bs.plot.imshow(\n",
    "    ax=ax, cmap=ListedColormap([\"lime\"]), add_colorbar=False, add_labels=False\n",
    ")\n",
    "loss_bs.plot.imshow(\n",
    "    ax=ax, cmap=ListedColormap([\"fuchsia\"]), add_colorbar=False, add_labels=False\n",
    ")\n",
    "ax.legend(\n",
    "    [\n",
    "        Patch(facecolor='lime'),\n",
    "        Patch(facecolor='fuchsia'),\n",
    "        Patch(facecolor=\"palegoldenrod\"),\n",
    "    ],\n",
    "    [\"New mangroves\", \"Loss of mangroves\", \"Stable Mangroves\"],\n",
    "    loc=\"lower right\",\n",
    ")\n",
    "plt.title('Change in mangrove extent between GMV 1996 baseline and {}'.format(ds_summaries.year.values[0]));"
   ]
  },
  {
   "cell_type": "markdown",
   "metadata": {},
   "source": [
    "### Determine the net change between 1996 and 2017"
   ]
  },
  {
   "cell_type": "code",
   "execution_count": null,
   "metadata": {},
   "outputs": [],
   "source": [
    "loss_bs_count = loss_bs.sum().values * m2_per_pixel / m2_per_ha\n",
    "gain_bs_count = growth_bs.sum().values * m2_per_pixel / m2_per_ha\n",
    "stable_bs_count = stable_bs.sum().values* m2_per_pixel / m2_per_ha\n",
    "\n",
    "counts = {\n",
    "          'Loss of Mangroves': loss_bs_count,\n",
    "          'New Mangroves': gain_bs_count,\n",
    "          'No Change': stable_bs_count,\n",
    "          'Delta Change': gain_bs_count + loss_bs_count\n",
    "          }\n",
    "\n",
    "df = pd.DataFrame(counts, index=['Area (Ha)'])\n",
    "df.plot.barh(color=['tab:red','tab:green','tab:orange','tab:blue'])\n",
    "plt.title('Change in mangrove extent between GMV 2010 baseline and {}'.format(ds_summaries.year.values[0]));"
   ]
  },
  {
   "cell_type": "markdown",
   "metadata": {},
   "source": [
    "## Drawing conclusions\n",
    "Here are some questions to think about:\n",
    "\n",
    "* What are the causes of mangrove growth and loss? "
   ]
  },
  {
   "cell_type": "markdown",
   "metadata": {},
   "source": [
    "---\n",
    "\n",
    "## Additional information\n",
    "\n",
    "**License:** The code in this notebook is licensed under the [Apache License, Version 2.0](https://www.apache.org/licenses/LICENSE-2.0). \n",
    "Digital Earth Africa data is licensed under the [Creative Commons by Attribution 4.0](https://creativecommons.org/licenses/by/4.0/) license.\n",
    "\n",
    "**Contact:** If you need assistance, please post a question on the [Open Data Cube Slack channel](http://slack.opendatacube.org/) or on the [GIS Stack Exchange](https://gis.stackexchange.com/questions/ask?tags=open-data-cube) using the `open-data-cube` tag (you can view previously asked questions [here](https://gis.stackexchange.com/questions/tagged/open-data-cube)).\n",
    "If you would like to report an issue with this notebook, you can file one on [Github](https://github.com/digitalearthafrica/deafrica-sandbox-notebooks).\n",
    "\n",
    "**Compatible datacube version:**"
   ]
  },
  {
   "cell_type": "code",
   "execution_count": null,
   "metadata": {},
   "outputs": [],
   "source": [
    "print(datacube.__version__)"
   ]
  },
  {
   "cell_type": "markdown",
   "metadata": {},
   "source": [
    "**Last Tested:**"
   ]
  },
  {
   "cell_type": "code",
   "execution_count": null,
   "metadata": {
    "raw_mimetype": "text/restructuredtext"
   },
   "outputs": [],
   "source": [
    "from datetime import datetime\n",
    "datetime.today().strftime('%Y-%m-%d')"
   ]
  }
 ],
 "metadata": {
  "kernelspec": {
   "display_name": "Python 3 (ipykernel)",
   "language": "python",
   "name": "python3"
  },
  "language_info": {
   "codemirror_mode": {
    "name": "ipython",
    "version": 3
   },
   "file_extension": ".py",
   "mimetype": "text/x-python",
   "name": "python",
   "nbconvert_exporter": "python",
   "pygments_lexer": "ipython3",
   "version": "3.8.10"
  },
  "widgets": {
   "application/vnd.jupyter.widget-state+json": {
    "state": {},
    "version_major": 2,
    "version_minor": 0
   }
  }
 },
 "nbformat": 4,
 "nbformat_minor": 4
}
