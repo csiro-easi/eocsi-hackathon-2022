{
 "cells": [
  {
   "cell_type": "code",
   "execution_count": null,
   "id": "4a3713f8-3aa3-4717-a564-1620b7f169d9",
   "metadata": {},
   "outputs": [],
   "source": [
    "import datacube\n",
    "from odc.ui import DcViewer"
   ]
  },
  {
   "cell_type": "code",
   "execution_count": null,
   "id": "f4f74794-d67a-471a-82f2-234d29f52afd",
   "metadata": {},
   "outputs": [],
   "source": [
    "dc = datacube.Datacube()"
   ]
  },
  {
   "cell_type": "code",
   "execution_count": null,
   "id": "19ac3edc-8b6d-4c48-bd29-97cfdc2f53e3",
   "metadata": {},
   "outputs": [],
   "source": [
    "products = dc.list_products()\n",
    "\n",
    "display_columns = [\"name\",\n",
    "                   \"description\",\n",
    "                   \"default_crs\",\n",
    "                   \"default_resolution\"]\n",
    "\n",
    "products[display_columns].sort_index()"
   ]
  },
  {
   "cell_type": "code",
   "execution_count": null,
   "id": "544add83-7cd3-4a9a-a1b6-e915439bbca7",
   "metadata": {},
   "outputs": [],
   "source": [
    "product = \"s2_l2a\"\n",
    "\n",
    "measurements = dc.list_measurements()\n",
    "measurements.loc[product]"
   ]
  },
  {
   "cell_type": "code",
   "execution_count": null,
   "id": "e3c8e946-8b83-4cc7-bcb1-650547245b32",
   "metadata": {},
   "outputs": [],
   "source": [
    "DcViewer(dc=dc,\n",
    "         time='2017',\n",
    "         center=(0.565, 38.007),\n",
    "         zoom=6)"
   ]
  },
  {
   "cell_type": "code",
   "execution_count": null,
   "id": "191f6314-92e4-4fff-bc64-f7f4e55f6a0b",
   "metadata": {},
   "outputs": [],
   "source": []
  }
 ],
 "metadata": {
  "kernelspec": {
   "display_name": "Python 3 (ipykernel)",
   "language": "python",
   "name": "python3"
  },
  "language_info": {
   "codemirror_mode": {
    "name": "ipython",
    "version": 3
   },
   "file_extension": ".py",
   "mimetype": "text/x-python",
   "name": "python",
   "nbconvert_exporter": "python",
   "pygments_lexer": "ipython3",
   "version": "3.8.10"
  }
 },
 "nbformat": 4,
 "nbformat_minor": 5
}
