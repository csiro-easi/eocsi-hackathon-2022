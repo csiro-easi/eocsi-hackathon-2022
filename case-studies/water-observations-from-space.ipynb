{
 "cells": [
  {
   "cell_type": "markdown",
   "id": "678d8f66-a3b0-492e-bd96-4936b6b467b5",
   "metadata": {},
   "source": [
    "# Water Observations from Space (WOfS)\n",
    "The [DEA water observation product](https://www.dea.ga.gov.au/products/dea-water-observation) maps the presense of surface water from Landsat imagery. An analysis through time can map the frequency a pixel is inundated by water, which can be used to infer the temporal and spatial statistics of flood/drought events. This notebook demonstrates how to run the DEA water observation algorithm for a given area of interest\n",
    "\n",
    "- [DEA product and algorithm details](https://cmi.ga.gov.au/data-products/dea/613/dea-water-observations-landsat)\n",
    "- [Reference code](https://github.com/GeoscienceAustralia/wofs/blob/master/wofs/virtualproduct.py)\n",
    "\n",
    "This notebook requires the \"WOfS Environment\", which needs to be installed on the first run of this notebook by executing the following cell. Once done, set the environment in the top-right corner. \n",
    "\n",
    "![](../resources/kernel_wofs.png)"
   ]
  },
  {
   "cell_type": "code",
   "execution_count": null,
   "id": "31352ab8-8116-4b3b-b3e4-b10734c17048",
   "metadata": {},
   "outputs": [],
   "source": [
    "# Install the WOfS environment\n",
    "#  - Only installs the environment if required (run it at least once)\n",
    "#  - Select the \"WOfS Environment\" kernel as per the picture above\n",
    "!../tools/install_wofs.sh"
   ]
  },
  {
   "cell_type": "markdown",
   "id": "83046be0",
   "metadata": {},
   "source": [
    "# Table of contents\n",
    "* [Data parameters - Lake Tempe](#Data-parameters---Lake-Tempe)\n",
    "* [Set proxy parameters to access data locally](#Set-proxy-parameters-to-access-data-locally)\n",
    "* [Import dependencies and initialise datacube](#Import-dependencies-and-initialise-datacube)\n",
    "* [Display the region of interest](#Display-the-region-of-interest)\n",
    "* [Load and display the DEM](#Load-and-display-the-DEM)\n",
    "* [Load the data](#Load-the-data)\n",
    "* [Classify WOfS](#Classify-WOfS)\n",
    "* [Water Observations Summaries](#Water-Observations-Summaries)\n",
    "  * [Wet counts](#Wet-counts)\n",
    "  * [Clear observations counts](#Clear-observations-counts)\n",
    "  * [Wet frequencies](#Wet-frequencies)\n"
   ]
  },
  {
   "cell_type": "markdown",
   "id": "dec36175-7220-4d9a-99ad-f8ccdbeacad2",
   "metadata": {},
   "source": [
    "## Data parameters - Lake Tempe"
   ]
  },
  {
   "cell_type": "code",
   "execution_count": null,
   "id": "23e47cc8-3e72-4514-a3d2-ff2503b272cb",
   "metadata": {},
   "outputs": [],
   "source": [
    "product = \"landsat8_c2l2_sr\"\n",
    "longitude = (119.8242517, 120.0350519)\n",
    "latitude = (-4.2013799, -3.9445384)\n",
    "time = ('2020-01-01', '2020-12-31')\n",
    "output_crs = \"EPSG:32650\"\n",
    "resolution = (30, -30)\n",
    "\n",
    "# Where to save the DEM fetched in ODC\n",
    "DEM_PATH = \"/home/jovyan/dems/srtm_lake_tempe.tif\""
   ]
  },
  {
   "cell_type": "markdown",
   "id": "01280eb5-c8e5-4f69-91a2-3fde95230595",
   "metadata": {},
   "source": [
    "## Set proxy parameters to access data locally"
   ]
  },
  {
   "cell_type": "code",
   "execution_count": null,
   "id": "fbbb9b0b-c6d4-4247-bba1-70ef0551b58a",
   "metadata": {},
   "outputs": [],
   "source": [
    "from os import environ\n",
    "\n",
    "environ[\"AWS_HTTPS\"] = \"NO\"\n",
    "environ[\"GDAL_HTTP_PROXY\"] = \"easi-caching-proxy.caching-proxy:80\"\n",
    "print(f'Will use caching proxy at: {environ.get(\"GDAL_HTTP_PROXY\")}')"
   ]
  },
  {
   "cell_type": "markdown",
   "id": "65f39dce-ad83-447c-ac07-e561a18c4548",
   "metadata": {},
   "source": [
    "## Import dependencies and initialise datacube"
   ]
  },
  {
   "cell_type": "code",
   "execution_count": null,
   "id": "cceaa9ee-428b-4f77-80cc-f143f434e8f1",
   "metadata": {},
   "outputs": [],
   "source": [
    "import sys\n",
    "sys.path.append(\"../../hub-notebooks/scripts\")\n",
    "\n",
    "from pathlib import Path\n",
    "\n",
    "import xarray as xr\n",
    "import rioxarray\n",
    "\n",
    "from app_utils import display_map\n",
    "from wofs.virtualproduct import WOfSClassifier\n",
    "\n",
    "try:\n",
    "    from dea_tools.plotting import display_map, rgb\n",
    "except ImportError:\n",
    "    # Local copy of selected dea_tools\n",
    "    if 'tools/' not in sys.path:\n",
    "        sys.path.append('tools/')\n",
    "    from datacube_utils import display_map\n",
    "    rgb = None  # Not copied or adapted yet"
   ]
  },
  {
   "cell_type": "code",
   "execution_count": null,
   "id": "6303598d-d94f-4f1b-8542-1600399a587d",
   "metadata": {},
   "outputs": [],
   "source": [
    "from datacube import Datacube\n",
    "from datacube.utils.aws import configure_s3_access\n",
    "\n",
    "configure_s3_access(\n",
    "    aws_unsigned=False, \n",
    "    requester_pays=True, \n",
    ");\n",
    "\n",
    "dc = Datacube()"
   ]
  },
  {
   "cell_type": "code",
   "execution_count": null,
   "id": "73922719-0013-4a90-9b3c-a487a4938349",
   "metadata": {},
   "outputs": [],
   "source": [
    "# Display available products\n",
    "products_info = dc.list_products()\n",
    "products_info"
   ]
  },
  {
   "cell_type": "markdown",
   "id": "60cf4081-bc0a-4926-b96a-7d578002938b",
   "metadata": {
    "tags": []
   },
   "source": [
    "## Display the region of interest"
   ]
  },
  {
   "cell_type": "code",
   "execution_count": null,
   "id": "3c78f0ae-996b-461e-b19f-1fc8977d9e98",
   "metadata": {},
   "outputs": [],
   "source": [
    "display_map(x=longitude, y=latitude)"
   ]
  },
  {
   "cell_type": "markdown",
   "id": "b0c5a987-6ae0-4103-ae99-17a1992bb8ec",
   "metadata": {},
   "source": [
    "## Load and display the DEM\n",
    "We load the SRTM DEM data from ODC using the lpdaac driver.\n",
    "The Lake Tempe area is mostly flat so the DEM can be made optional."
   ]
  },
  {
   "cell_type": "code",
   "execution_count": null,
   "id": "f52076aa-143a-49e1-a37c-b4f51e4b76b0",
   "metadata": {},
   "outputs": [],
   "source": [
    "# Ignore warnings in output\n",
    "import warnings\n",
    "from sqlalchemy.exc import SAWarning\n",
    "warnings.filterwarnings(\"ignore\", category=FutureWarning) \n",
    "warnings.filterwarnings(\"ignore\", category=SAWarning) \n",
    "\n",
    "from os import environ\n",
    "from cartopy.crs import PlateCarree\n",
    "from datashader import reductions\n",
    "import holoviews as hv\n",
    "import hvplot.xarray\n",
    "import matplotlib.pyplot as plt\n",
    "\n",
    "dem = dc.load(\n",
    "    product=\"lpdaac_nasadem\", \n",
    "    latitude=latitude,\n",
    "    longitude=longitude,\n",
    "    output_crs=\"epsg:4326\", \n",
    "    resolution=(-1/3600, 1/3600),\n",
    ")\n",
    "elevation = dem.elevation"
   ]
  },
  {
   "cell_type": "code",
   "execution_count": null,
   "id": "ed871859-1b8c-4921-b59f-5f14e9b09e91",
   "metadata": {},
   "outputs": [],
   "source": [
    "options = {\n",
    "    'title': 'Elevation',\n",
    "    'width': 800,\n",
    "    'height': 500,\n",
    "    'aspect': 'equal',\n",
    "    'cmap': plt.cm.terrain,\n",
    "    'clim': (0, elevation.max().values.item()),    # Limit the color range depending on the layer_name\n",
    "    'colorbar': True,\n",
    "    'tools': ['hover'],\n",
    "}\n",
    "plot_crs = PlateCarree()\n",
    "elevation.hvplot.image(\n",
    "     x = 'longitude', y = 'latitude',         # Dataset x,y dimension names \n",
    "     crs = plot_crs,\n",
    "     rasterize = True,                        # If False, data will not be reduced. This is slow to load but all data is loaded.\n",
    "     aggregator = reductions.mean(),          # Datashader calculates the mean value for reductions (also first, min, max, las, std, mode)\n",
    "     precompute = True,                       # Datashader precomputes what it can\n",
    "    ).opts(**options).hist(bin_range = options['clim'])"
   ]
  },
  {
   "cell_type": "code",
   "execution_count": null,
   "id": "98b46de6-29f4-45ca-abad-00e9957268c3",
   "metadata": {
    "tags": []
   },
   "outputs": [],
   "source": [
    "dem_path = Path(DEM_PATH)\n",
    "dem_path.parent.mkdir(parents=True, exist_ok=True)\n",
    "elevation.rio.to_raster(dem_path)"
   ]
  },
  {
   "cell_type": "markdown",
   "id": "68320ce6-0677-4246-8299-29e14db692f5",
   "metadata": {},
   "source": [
    "## Load the data\n",
    "Load the data from ODC and rename bands as needed by the WOfS classifier."
   ]
  },
  {
   "cell_type": "code",
   "execution_count": null,
   "id": "b52d6777-9121-4a87-bca8-41192cbbc195",
   "metadata": {},
   "outputs": [],
   "source": [
    "# Ignore SAWarning in output\n",
    "measurements = ['blue', 'green', 'red', 'nir', 'swir1', 'swir2', 'pixel_qa']\n",
    "data = dc.load(\n",
    "    product=product,\n",
    "    longitude=longitude,\n",
    "    latitude=latitude,\n",
    "    time=time,\n",
    "    output_crs=output_crs,\n",
    "    resolution=resolution,\n",
    "    measurements=measurements,\n",
    "    dask_chunks={'time': 1},\n",
    ")\n",
    "\n",
    "data = data.rename({\n",
    "    \"blue\": \"nbart_blue\",\n",
    "    \"green\": \"nbart_green\",\n",
    "    \"red\": \"nbart_red\",\n",
    "    \"nir\": \"nbart_nir\",\n",
    "    \"swir1\": \"nbart_swir_1\",\n",
    "    \"swir2\": \"nbart_swir_2\",\n",
    "    \"pixel_qa\": \"fmask\",\n",
    "})\n",
    "data"
   ]
  },
  {
   "cell_type": "markdown",
   "id": "b9011449-595d-4ab8-ab77-60f4d9773442",
   "metadata": {},
   "source": [
    "## Classify WOfS"
   ]
  },
  {
   "cell_type": "code",
   "execution_count": null,
   "id": "ae41b57f-03b9-4d7e-861a-69a7e528ac50",
   "metadata": {},
   "outputs": [],
   "source": [
    "transform = WOfSClassifier(c2_scaling=True, dsm_path=DEM_PATH)\n",
    "# Compute the WOFS layer\n",
    "wofl = transform.compute(data)\n",
    "wofl"
   ]
  },
  {
   "cell_type": "code",
   "execution_count": null,
   "id": "37be9ca8-7ac3-421e-837f-c7264dd96c35",
   "metadata": {},
   "outputs": [],
   "source": [
    "# Uncomment the following line to display WOfS for each time slice. This may take a few minutes\n",
    "# wofl.water.plot(col=\"time\", col_wrap=5);"
   ]
  },
  {
   "cell_type": "markdown",
   "id": "6f9f3501-eedd-49d9-8139-089991535b9c",
   "metadata": {},
   "source": [
    "## Water observations summaries\n",
    "The Water Observations Summaries based on [https://github.com/opendatacube/odc-stats/blob/develop/odc/stats/plugins/wofs.py](https://github.com/opendatacube/odc-stats/blob/develop/odc/stats/plugins/wofs.py) are made up of:\n",
    "- `count_clear`: a count of every time a pixel was observed (not obscured by terrain or clouds)\n",
    "- `count_wet`: a count of every time a pixel was observed and wet\n",
    "- `frequency`: what fraction of time (wet/clear) was the pixel wet"
   ]
  },
  {
   "cell_type": "code",
   "execution_count": null,
   "id": "a056c3f3-cd0e-420b-88c4-e38dafd64651",
   "metadata": {},
   "outputs": [],
   "source": [
    "# Rename dimensions as required\n",
    "wofl = wofl.rename({\"x\": \"longitude\", \"y\": \"latitude\"})"
   ]
  },
  {
   "cell_type": "code",
   "execution_count": null,
   "id": "10d2e42e-8cd6-4593-8fa3-a2fd915de323",
   "metadata": {},
   "outputs": [],
   "source": [
    "from odc.algo import safe_div, apply_numexpr, keep_good_only\n",
    "\n",
    "wofl[\"bad\"] = (wofl.water & 0b0111_1110) > 0\n",
    "wofl[\"some\"] = apply_numexpr(\"((water<<30)>>30)==0\", wofl, name=\"some\")\n",
    "wofl[\"dry\"] = wofl.water == 0\n",
    "wofl[\"wet\"] = wofl.water == 128\n",
    "wofl = wofl.drop_vars(\"water\")\n",
    "for dv in wofl.data_vars.values():\n",
    "    dv.attrs.pop(\"nodata\", None)"
   ]
  },
  {
   "cell_type": "code",
   "execution_count": null,
   "id": "4fb531e1-dbfc-4dff-9255-fed26ed06cb3",
   "metadata": {
    "tags": []
   },
   "outputs": [],
   "source": [
    "# Ignore warnings triggered by time slices without data at all\n",
    "warnings.filterwarnings(\"ignore\", message=\"divide by zero encountered in true_divide\") \n",
    "warnings.filterwarnings(\"ignore\", message=\"invalid value encountered in true_divide\") \n",
    "\n",
    "wofl.wet.plot(col=\"time\", col_wrap=5);"
   ]
  },
  {
   "cell_type": "code",
   "execution_count": null,
   "id": "554b5563-209d-425b-9f2d-611684ae2c28",
   "metadata": {},
   "outputs": [],
   "source": [
    "# Helper frunction from https://github.com/opendatacube/odc-stats/blob/develop/odc/stats/plugins/wofs.py\n",
    "def reduce(xx: xr.Dataset) -> xr.Dataset:\n",
    "    nodata = -999\n",
    "    count_some = xx.some.sum(axis=0, dtype=\"int16\")\n",
    "    count_wet = xx.wet.sum(axis=0, dtype=\"int16\")\n",
    "    count_dry = xx.dry.sum(axis=0, dtype=\"int16\")\n",
    "    count_clear = count_wet + count_dry\n",
    "    frequency = safe_div(count_wet, count_clear, dtype=\"float32\")\n",
    "\n",
    "    count_wet.attrs[\"nodata\"] = nodata\n",
    "    count_clear.attrs[\"nodata\"] = nodata\n",
    "\n",
    "    is_ok = count_some > 0\n",
    "    count_wet = keep_good_only(count_wet, is_ok)\n",
    "    count_clear = keep_good_only(count_clear, is_ok)\n",
    "\n",
    "    return xr.Dataset(\n",
    "        dict(\n",
    "            count_wet=count_wet,\n",
    "            count_clear=count_clear,\n",
    "            frequency=frequency,\n",
    "        )\n",
    "    )"
   ]
  },
  {
   "cell_type": "code",
   "execution_count": null,
   "id": "5e57da06-2dbc-4856-a010-641adecfc5e2",
   "metadata": {},
   "outputs": [],
   "source": [
    "summary = reduce(wofl)"
   ]
  },
  {
   "cell_type": "markdown",
   "id": "11945b51-ba82-4792-86cf-1f2aea08b77a",
   "metadata": {},
   "source": [
    "### Wet counts\n",
    "\n",
    "A count of every time a pixel was observed and wet."
   ]
  },
  {
   "cell_type": "code",
   "execution_count": null,
   "id": "87e9794b-c334-42c7-a2ab-04f20dec35e5",
   "metadata": {},
   "outputs": [],
   "source": [
    "summary.count_wet.plot(size=10)\n",
    "plt.title(\"Lake Tempe – Wet observations counts for 2020\");"
   ]
  },
  {
   "cell_type": "markdown",
   "id": "32c2ebcd-e4b7-4f0e-9f32-1f6adf578cd3",
   "metadata": {},
   "source": [
    "### Clear observations counts\n",
    "\n",
    "A count of every time a pixel was observed (not obscured by terrain or clouds)."
   ]
  },
  {
   "cell_type": "code",
   "execution_count": null,
   "id": "2f09aa62-26b0-47e8-a12d-72379941221d",
   "metadata": {
    "tags": []
   },
   "outputs": [],
   "source": [
    "summary.count_clear.plot(size=10)\n",
    "plt.title(\"Lake Tempe – Clear observations counts for 2020\");"
   ]
  },
  {
   "cell_type": "markdown",
   "id": "4b935921-8317-4914-9cb6-2423bcf63150",
   "metadata": {},
   "source": [
    "### Wet frequencies\n",
    "\n",
    "What fraction of the time was the pixel wet."
   ]
  },
  {
   "cell_type": "code",
   "execution_count": null,
   "id": "9f170afa-d44e-4450-a62b-e7400ee87d77",
   "metadata": {},
   "outputs": [],
   "source": [
    "summary.frequency.plot(size=10)\n",
    "plt.title(\"Lake Tempe – Wet frequency for 2020\");"
   ]
  },
  {
   "cell_type": "code",
   "execution_count": null,
   "id": "848734be-d09e-4f0f-b0e5-905086e855d8",
   "metadata": {},
   "outputs": [],
   "source": [
    "# Save frequencies to high-res image file\n",
    "summary.frequency.plot(size=20)\n",
    "plt.title(\"Lake Tempe – Wet frequency for 2020\")\n",
    "plt.savefig('/home/jovyan/tempe_wofs_2020.png', dpi=600);"
   ]
  }
 ],
 "metadata": {
  "kernelspec": {
   "display_name": "WOfS Environment",
   "language": "python",
   "name": "wofs"
  },
  "language_info": {
   "codemirror_mode": {
    "name": "ipython",
    "version": 3
   },
   "file_extension": ".py",
   "mimetype": "text/x-python",
   "name": "python",
   "nbconvert_exporter": "python",
   "pygments_lexer": "ipython3",
   "version": "3.8.10"
  }
 },
 "nbformat": 4,
 "nbformat_minor": 5
}
