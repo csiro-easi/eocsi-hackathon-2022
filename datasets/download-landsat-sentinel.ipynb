{
 "cells": [
  {
   "cell_type": "markdown",
   "id": "8cda0c7b-4eb6-4b43-a7d2-9f4e32a39e2f",
   "metadata": {
    "tags": []
   },
   "source": [
    "# Download Landsat data using STAC API\n",
    "\n",
    "## Landsat data\n",
    "\n",
    "Landsat-5, 7, 8 and 9 [collection 2](https://www.usgs.gov/landsat-missions/landsat-collection-2) products are managed by USGS. USGS make Landsat data available via number of services, including:\n",
    "\n",
    "- [Earth Explorer](https://earthexplorer.usgs.gov) - USGS data browser and viewer\n",
    "- [Landsat Look](https://landsatlook.usgs.gov/stac-browser/collection02) - Landsat scene browser (STAC)\n",
    "- [AWS OpenData](https://registry.opendata.aws/usgs-landsat) - Cloud-hosted data (STAC)\n",
    "- [ESPA](https://espa.cr.usgs.gov) - USGS On-demand processing\n",
    "- Google Earth Engine\n",
    "- Microsoft Planetary Computer\n",
    "\n",
    "#### Data source and documentation\n",
    "\n",
    "[Surface Reflectance](https://www.usgs.gov/landsat-missions/landsat-collection-2-level-2-science-products), [Surface Temperature](https://www.usgs.gov/landsat-missions/landsat-collection-2-level-2-science-products) and [Level-1 (top of atmosphere)](https://www.usgs.gov/landsat-missions/landsat-collection-2-level-1-data) products for each of [Landsat-5, 7, 8 and 9](https://www.usgs.gov/landsat-missions/landsat-satellite-missions) are available.\n",
    "\n",
    "## Spatio Temporal Asset Catalogs (STAC)\n",
    "The STAC specification is a common language to describe geospatial information. A STAC API provides a search and selection interface to a catalog of items and files. See https://stacindex.org/catalogs#/ for a list of providers using STAC.\n",
    "\n",
    "While the STAC specification allows for consistent searching and access to available files, how these files are used and interpreted can still be a challenge or at least specific to each custodian.\n",
    "\n",
    "This notebook demonstrates how to search, download, visualise and export Landsat and Sentinel-2 satellite imagery.\n",
    "- USGS Landsat on Level-1 and -2 products AWS, https://registry.opendata.aws/usgs-landsat/\n",
    "- Element-84 Sentinel-2 \"sen2cor\"-corrected surface reflectance on AWS, https://registry.opendata.aws/sentinel-2/\n",
    "\n",
    "## Open Data Cube\n",
    "\n",
    "The Open Data Cube (ODC) records product and scene information in a database and provides tools for tranforming and aggregating scene data into geospatial python `xarray` \"cubes\". In this context, the STAC API can replace some parts of the ODC database while providing the core geospatial information required for transforming and aggregating the scene data into cubes.\n",
    "\n",
    "The ODC [odc-stac](https://github.com/opendatacube/odc-stac) and [odc-geo](https://github.com/opendatacube/odc-geo) packages provide the core functionality of reading, tranforming and aggregating files. In particular, the odc-stac library takes a list of STAC items as input and reads these into an `xarray` cube compatible with ODC functions.\n",
    "\n",
    "## More information\n",
    "\n",
    "This notebook was adapted from https://github.com/opendatacube/odc-stac/tree/develop/notebooks."
   ]
  },
  {
   "cell_type": "code",
   "execution_count": null,
   "id": "96dfce85-0da1-4b35-b0bc-1ef623af8d18",
   "metadata": {
    "tags": []
   },
   "outputs": [],
   "source": [
    "# Minimal packages\n",
    "import os, sys\n",
    "from pystac_client import Client\n",
    "from odc.stac import configure_s3_access, stac_load\n",
    "\n",
    "# Python packages\n",
    "import re\n",
    "import json\n",
    "import pandas as pd\n",
    "import numpy as np\n",
    "from pathlib import Path\n",
    "\n",
    "# ODC packages\n",
    "from dea_tools.plotting import display_map, rgb\n",
    "from datacube.utils import masking\n",
    "from odc.algo import mask_cleanup, erase_bad, to_f32\n",
    "from odc.ui import image_aspect\n",
    "\n",
    "# EASI packages\n",
    "repo = Path.home() / 'eocsi-hackathon-2022'  # No easy way to get repo directory\n",
    "if repo not in sys.path: sys.path.append(str(repo))\n",
    "from tools.notebook_utils import heading, xarray_object_size, initialize_dask, localcluster_dashboard\n",
    "from tools.stac_utils import stac_landsat_assets_df, stac_landsat_flags_to_dc"
   ]
  },
  {
   "cell_type": "code",
   "execution_count": null,
   "id": "d42fa2a4-f7d7-4556-a159-abbea8fba13d",
   "metadata": {},
   "outputs": [],
   "source": [
    "# Setup\n",
    "\n",
    "# Does this work stand-alone or require an AWS account?\n",
    "configure_s3_access(requester_pays=True)\n",
    "\n",
    "# Optional: use EASI SE Asia caching-proxy service\n",
    "os.environ[\"AWS_HTTPS\"] = \"NO\"\n",
    "os.environ[\"GDAL_HTTP_PROXY\"] = \"easi-caching-proxy.caching-proxy:80\"\n",
    "print(f'Will use caching proxy at: {os.environ.get(\"GDAL_HTTP_PROXY\")}')\n",
    "\n",
    "# Optional: Dask\n",
    "cluster, client = initialize_dask(use_gateway=True, workers=(1,7), wait=False)\n",
    "if cluster: display(cluster)\n",
    "if cluster is None or 'LocalCluster' in str(type(cluster)): display(localcluster_dashboard(client))"
   ]
  },
  {
   "cell_type": "markdown",
   "id": "ad316d32-2abe-4d82-add9-b3608b1263f3",
   "metadata": {},
   "source": [
    "## Select an area of interest\n",
    "\n",
    "Here are some example areas of interest. For simplicity they are defined with a bounding box. The `pystac` and `odc-stac` packages both accept a geopolygon as well."
   ]
  },
  {
   "cell_type": "code",
   "execution_count": null,
   "id": "907e100c-5f4e-4f6f-a785-b3841ed031b7",
   "metadata": {},
   "outputs": [],
   "source": [
    "# Vietnam - Ha Long\n",
    "latitude = (20.5, 21.1)\n",
    "longitude = (106.5, 107.2)\n",
    "time=('2022-01-01', '2022-06-01')\n",
    "\n",
    "# PNG Milne Bay\n",
    "# latitude = (-10.8, -10)\n",
    "# longitude = (149.7, 150.8)  \n",
    "# time=('2022-01-01', '2022-03-01')\n",
    "\n",
    "# Fiji - blows up JHub memory due to antemeridian\n",
    "# latitude = (-17.1, -16.2)\n",
    "# longitude = (178.2, 180.0)\n",
    "# time=('2020-02-01', '2020-02-20')\n",
    "\n",
    "# west, south, east, north\n",
    "bbox = [longitude[0], latitude[0], longitude[1], latitude[1]]\n",
    "\n",
    "# Display bounding box on a map\n",
    "display_map(longitude, latitude)"
   ]
  },
  {
   "cell_type": "markdown",
   "id": "94c5de33-2a21-4f23-999a-cf1a43eb6dba",
   "metadata": {
    "tags": []
   },
   "source": [
    "## Search USGS STAC catalog\n",
    "\n",
    "The odc-stac package There is an amount of detail in the following cell, which has been accumulated from various sources and our experience. Some \n"
   ]
  },
  {
   "cell_type": "code",
   "execution_count": null,
   "id": "8dfe3fa7-8f3a-4a49-aaf8-679fbf3aa63d",
   "metadata": {},
   "outputs": [],
   "source": [
    "if do_landsat:\n",
    "\n",
    "    # STAC catalog and query\n",
    "    catalog = Client.open('https://landsatlook.usgs.gov/stac-server/')\n",
    "    product = 'landsat-c2l2-sr'\n",
    "    query_cfg = [\"platform=LANDSAT_8\", \"landsat:collection_category=T1\"]\n",
    "\n",
    "    # Search for available items\n",
    "    query = catalog.search(\n",
    "        collections=[product], datetime=f'{time[0]}/{time[1]}', bbox=bbox, query=query_cfg\n",
    "    )\n",
    "    items = list(query.get_items())\n",
    "    print(f\"Found: {len(items):d} datasets\")\n",
    "\n",
    "    # Rewrite URLs to use S3\n",
    "    def landsat_patch(uri: str) -> str:\n",
    "        \"\"\"Return the S3 version of the URI\"\"\"\n",
    "        return uri.replace('https://landsatlook.usgs.gov/data/', 's3://usgs-landsat/')\n",
    "\n",
    "    # Change or update STAC information for use by ODC\n",
    "    stac_cfg = json.load(open(f'{repo}/stac_cfgs/aws/{product}.json'))\n",
    "\n",
    "    # `stac_load` parameters\n",
    "    bands = ('blue', 'green', 'red', 'nir08', 'qa_pixel')\n",
    "    stac_call = {\n",
    "        'bands': bands,                            # Optional: selected bands\n",
    "        'bbox': bbox,                              # Bounding box. Also Geopolygon, GeoBox or None (full extent of items)\n",
    "        'chunks': {'x': 4096, 'y': 4096},          # Optional: if using Dask\n",
    "        'groupby': \"solar_day\",                    # \"solar_day\" = group scenes on same solar day into same time layer in cube\n",
    "        'stac_cfg': stac_cfg,\n",
    "        'patch_url': landsat_patch,\n",
    "    }\n",
    "\n",
    "    # Additional Landsat band specifications\n",
    "    band_specs = {\n",
    "        'red': {\n",
    "            'scale': 0.0000275,\n",
    "            'offset': -0.2\n",
    "        },\n",
    "        'nir08': {\n",
    "            'scale': 0.0000275,\n",
    "            'offset': -0.2\n",
    "        },\n",
    "    }"
   ]
  },
  {
   "cell_type": "markdown",
   "id": "3b2f1e54-e632-4eaa-bb59-c02e5ae1361d",
   "metadata": {},
   "source": [
    "## Sentinel-2 configuration and settings"
   ]
  },
  {
   "cell_type": "code",
   "execution_count": null,
   "id": "0ec2ccff-f742-4bf4-8262-ba12acd20e53",
   "metadata": {},
   "outputs": [],
   "source": [
    "if do_sentinel:\n",
    "    \n",
    "    # STAC catalog and query\n",
    "    catalog = Client.open('https://earth-search.aws.element84.com/v0')\n",
    "    product = 'sentinel-s2-l2a-cogs'\n",
    "    \n",
    "    # Search for available items\n",
    "    query = catalog.search(\n",
    "        collections=[product], datetime=f'{time[0]}/{time[1]}', bbox=bbox,\n",
    "    )\n",
    "    items = list(query.get_items())\n",
    "    print(f\"Found: {len(items):d} datasets\")\n",
    "    \n",
    "    # Rewrite URLs to use S3\n",
    "    def patch(uri: str) -> str:\n",
    "        \"\"\"Return the Sentinel-2 S3 version of the URI\"\"\"\n",
    "        return uri.replace('https://sentinel-cogs.s3.us-west-2.amazonaws.com/', 's3://sentinel-cogs/')\n",
    "    \n",
    "    # Change or update STAC information for use by ODC \n",
    "    stac2odc_cfg = {\n",
    "        \"sentinel-s2-l2a-cogs\": {\n",
    "            \"assets\": {\n",
    "                \"*\": {\"data_type\": \"uint16\", \"nodata\": 0},\n",
    "                \"SCL\": {\"data_type\": \"uint8\", \"nodata\": 0},\n",
    "                \"visual\": {\"data_type\": \"uint8\", \"nodata\": 0},\n",
    "            },\n",
    "            \"aliases\": {\"red\": \"B04\", \"green\": \"B03\", \"blue\": \"B02\"},\n",
    "        },\n",
    "        \"*\": {\"warnings\": \"ignore\"},\n",
    "    }\n",
    "    \n",
    "    # `stac_load` parameters\n",
    "    stac_call = {\n",
    "        'bands': (\"B04\",),\n",
    "        'crs': crs,\n",
    "        'resolution': 30,\n",
    "        # chunks={},  # <-- use Dask\n",
    "        # groupby=\"solar_day\",\n",
    "        'stac_cfg': cfg,\n",
    "        'patch_url': patch,\n",
    "    }"
   ]
  },
  {
   "cell_type": "code",
   "execution_count": null,
   "id": "281736e3-50fc-42bd-8cef-edf70915c088",
   "metadata": {},
   "outputs": [],
   "source": [
    "# Optional: Explore the structure of a STAC item\n",
    "display(items[0])\n",
    "\n",
    "# Optional: List available band names and selected details\n",
    "display(stac_landsat_assets_df(items[0]))"
   ]
  },
  {
   "cell_type": "markdown",
   "id": "12f29e64-d8b0-437c-9889-89968b0da034",
   "metadata": {},
   "source": [
    "## Load the selected items into an `xarray` cube"
   ]
  },
  {
   "cell_type": "code",
   "execution_count": null,
   "id": "40ccb92e-b43a-4962-b771-0e320f7bbd7b",
   "metadata": {
    "tags": []
   },
   "outputs": [],
   "source": [
    "xx = stac_load(items, **stac_call)\n",
    "\n",
    "heading(xarray_object_size(xx))\n",
    "display(xx)\n",
    "display(xx.odc.geobox)\n",
    "aspect = image_aspect(xx)"
   ]
  },
  {
   "cell_type": "markdown",
   "id": "e95c8ae4-e934-416f-a163-1a0798b8f7ef",
   "metadata": {},
   "source": [
    "## Apply pixel quality masking and scaling\n",
    "\n",
    "Following [Cloud_and_pixel_quality_masking.ipynb](https://github.com/digitalearthafrica/deafrica-sandbox-notebooks/blob/main/Frequently_used_code/Cloud_and_pixel_quality_masking.ipynb), we choose the \"cloud mask filtered\" method to remove false-positive cloud features before further analysis.\n",
    "\n",
    "> Note that there are some differences in the key or value labels between the Landsat flags definition in the referenced notebook and available from STAC, which is just due to human interpretation. See the Landsat product links at the top of this notebook for further information."
   ]
  },
  {
   "cell_type": "code",
   "execution_count": null,
   "id": "734b9a9d-472b-4f3b-af8e-4e0b9e3b93ef",
   "metadata": {},
   "outputs": [],
   "source": [
    "# Convert pixel quality flag descriptions to ODC format\n",
    "flags_def = stac_landsat_flags_to_dc(\n",
    "    items[0].assets['qa_pixel'].to_dict().get('classification:bitfields')\n",
    ")\n",
    "# heading('\"qa_pixel\" flags definition')\n",
    "# display(flags_def)\n",
    "\n",
    "# Cloud mask flags (logical AND?)\n",
    "quality_flags = {\n",
    "    'cloud': 'cloud',    # True where there is cloud\n",
    "    'cirrus': 'cirrus',  # True where there is cirrus cloud\n",
    "    'shadow': 'shadow',  # True where there is cloud shadow \n",
    "}\n",
    "\n",
    "# Set bit mask: True=cloud, False=non-cloud\n",
    "mask, _= masking.create_mask_value(flags_def, **quality_flags)\n",
    "\n",
    "# Add the cloud mask to our dataset\n",
    "xx['cloud_mask'] = (xx['qa_pixel'] & mask) != 0  # bitwise-and != 0 simulates an 'or'\n",
    "\n",
    "# Apply morphological processing on the cloud mask\n",
    "filters = [(\"opening\", 2),(\"dilation\", 2)]\n",
    "xx['cloud_mask_filtered'] = mask_cleanup(xx['cloud_mask'], mask_filters=filters)\n",
    "\n",
    "# Apply the the cloud-mask to the data variables\n",
    "clear_filtered = erase_bad(xx.drop_vars(['cloud_mask_filtered', 'cloud_mask', 'qa_pixel']),\n",
    "                           xx['cloud_mask_filtered'])\n",
    "\n",
    "# Apply scale and offset\n",
    "scale = stac_cfg[product]['assets']['*']['scale']\n",
    "offset = stac_cfg[product]['assets']['*']['offset']\n",
    "clear_filtered = (clear_filtered * scale + offset).astype(np.float32)"
   ]
  },
  {
   "cell_type": "markdown",
   "id": "d1bf80db-6201-45e6-a860-34b0969f711b",
   "metadata": {},
   "source": [
    "## Dask: compute results\n",
    "\n",
    "If using dask then the above calculations may have been queued but not yet calculated. Dask will run the calculations when required, for example when creating an image or writing to a file. In this case, use `persist()` to force the calulations.\n",
    "- https://distributed.dask.org/en/stable/manage-computation.html"
   ]
  },
  {
   "cell_type": "code",
   "execution_count": null,
   "id": "af725e8e-6efe-422f-a434-a6f28795e18b",
   "metadata": {},
   "outputs": [],
   "source": [
    "xx = xx.persist()\n",
    "\n",
    "clear_filtered = clear_filtered.persist()"
   ]
  },
  {
   "cell_type": "code",
   "execution_count": null,
   "id": "4a3ed433-a57c-4f42-b197-42ebd0d56b01",
   "metadata": {},
   "outputs": [],
   "source": [
    "# Optional: Check the data structures and sizes\n",
    "\n",
    "# heading(xarray_object_size(xx))\n",
    "# display(xx)\n",
    "\n",
    "# heading(xarray_object_size(clear_filtered))\n",
    "# display(clear_filtered)"
   ]
  },
  {
   "cell_type": "markdown",
   "id": "e881bfa1-8994-4f84-a07e-04dafa83ae65",
   "metadata": {},
   "source": [
    "## Optional plot summaries\n",
    "\n",
    "These simpler \"matplotlib backend\" plot functions (`rgb`, `xx.plot`) render images, from the full data arrays, on the Jupyter notebook server. This may exceed the available Jupyter kernel memory depending on the size of the area of interest (size of the dataset). As such these methods are best suited to demonstrating smaller areas of interest.\n",
    "\n",
    "To visualise larger areas of interest consider either subsampling the data arrays ([xarray indexing](https://docs.xarray.dev/en/stable/user-guide/indexing.html)) or try the [Holoviz](https://holoviz.org/) stack:\n",
    "- https://datashader.org/getting_started/Pipeline.html\n",
    "- https://examples.pyviz.org/landsat/landsat.html"
   ]
  },
  {
   "cell_type": "code",
   "execution_count": null,
   "id": "8029a3fe-5605-4d9e-85eb-a6de3b88b3ff",
   "metadata": {
    "tags": []
   },
   "outputs": [],
   "source": [
    "# Optional: Plot and RGB timeseries\n",
    "rgb(xx, ['red', 'green', 'blue'], col='time', col_wrap=4)\n",
    "\n",
    "# Optional: plot the masked and scaled data\n",
    "rgb(clear_filtered, ['red', 'green', 'blue'], col='time', col_wrap=4)"
   ]
  },
  {
   "cell_type": "markdown",
   "id": "1ddcc241-b69c-4018-8002-838ca816bb62",
   "metadata": {},
   "source": [
    "## Export to netCDF or Geotiff"
   ]
  },
  {
   "cell_type": "code",
   "execution_count": null,
   "id": "d8281473-2034-4eb0-95ba-34f863d29976",
   "metadata": {},
   "outputs": [],
   "source": []
  },
  {
   "cell_type": "markdown",
   "id": "d317f074-1bfe-47e6-a433-f749ddc42632",
   "metadata": {},
   "source": [
    "## Close the Dask cluster\n",
    "\n",
    "Its good practice to shutdown the dask cluster when the work is complete (no further work on the loaded and processed data)."
   ]
  },
  {
   "cell_type": "code",
   "execution_count": null,
   "id": "31368718-9b43-4918-bbca-4274747fff80",
   "metadata": {},
   "outputs": [],
   "source": [
    "# client.close()\n",
    "# if cluster: cluster.close()"
   ]
  },
  {
   "cell_type": "code",
   "execution_count": null,
   "id": "a8c65044-cb05-4592-808c-a9ee506f4046",
   "metadata": {},
   "outputs": [],
   "source": []
  }
 ],
 "metadata": {
  "kernelspec": {
   "display_name": "Python 3 (ipykernel)",
   "language": "python",
   "name": "python3"
  },
  "language_info": {
   "codemirror_mode": {
    "name": "ipython",
    "version": 3
   },
   "file_extension": ".py",
   "mimetype": "text/x-python",
   "name": "python",
   "nbconvert_exporter": "python",
   "pygments_lexer": "ipython3",
   "version": "3.8.10"
  }
 },
 "nbformat": 4,
 "nbformat_minor": 5
}
