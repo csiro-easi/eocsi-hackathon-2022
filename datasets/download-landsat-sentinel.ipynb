{
 "cells": [
  {
   "cell_type": "markdown",
   "id": "8cda0c7b-4eb6-4b43-a7d2-9f4e32a39e2f",
   "metadata": {},
   "source": [
    "# Download Landsat or Sentinel-2 data using STAC API\n",
    "\n",
    "## Spatio Temporal Asset Catalogs (STAC)\n",
    "The STAC specification is a common language to describe geospatial information. A STAC API provides a search and selection interface to a catalog of items and files. See https://stacindex.org/catalogs#/ for a list of provides using STAC.\n",
    "\n",
    "While the STAC specification allows consistent searching and access to available files, how these files are used and interpreted can still be a challenge or at least specific to each custodian.\n",
    "\n",
    "This notebook demonstrates how to search, download, visualise and export Landsat and Sentinel-2 satellite imagery.\n",
    "- USGS Landsat on Level-1 and -2 products AWS, https://registry.opendata.aws/usgs-landsat/\n",
    "- Element-84 Sentinel-2 \"sen2cor\"-corrected surface reflectance on AWS, https://registry.opendata.aws/sentinel-2/\n",
    "\n",
    "## Open Data Cube\n",
    "\n",
    "The Open Data Cube (ODC) records product and scene information in a database and provides tools for tranforming and aggregating scene data into geospatial python `xarray` \"cubes\". In this context, the STAC API can replace some parts of the ODC database while providing the core geospatial information required for transforming and aggregating the scene data into cubes.\n",
    "\n",
    "The ODC [odc-stac](https://github.com/opendatacube/odc-stac) and [odc-geo](https://github.com/opendatacube/odc-geo) packages provide the core functionality of reading, tranforming and aggregating files. In particular, the odc-stac library takes a list of STAC items as input and reads these into an `xarray` cube compatibel with ODC functions.\n",
    "\n",
    "## More information\n",
    "\n",
    "This notebook was adapted from https://github.com/opendatacube/odc-stac/tree/develop/notebooks."
   ]
  },
  {
   "cell_type": "code",
   "execution_count": null,
   "id": "96dfce85-0da1-4b35-b0bc-1ef623af8d18",
   "metadata": {},
   "outputs": [],
   "source": [
    "# Minimal packages\n",
    "import os, sys\n",
    "from pystac_client import Client\n",
    "from odc.stac import configure_s3_access, stac_load\n",
    "\n",
    "# ODC packages (optional)\n",
    "from dea_tools.plotting import display_map\n",
    "\n",
    "# EASI packages (optional)\n",
    "repo = f'{os.environ[\"HOME\"]}/eocsi-hackathon-2022'  # No easy way to get repo directory\n",
    "if repo not in sys.path: sys.path.append(repo)\n",
    "from tools.notebook_utils import xarray_object_size, initialize_dask, localcluster_dashboard"
   ]
  },
  {
   "cell_type": "code",
   "execution_count": null,
   "id": "d42fa2a4-f7d7-4556-a159-abbea8fba13d",
   "metadata": {},
   "outputs": [],
   "source": [
    "# Setup\n",
    "\n",
    "# Does this work stand-alone or require an AWS account?\n",
    "configure_s3_access(requester_pays=True)\n",
    "\n",
    "# Optional: use EASI SE Asia caching-proxy service\n",
    "os.environ[\"AWS_HTTPS\"] = \"NO\"\n",
    "os.environ[\"GDAL_HTTP_PROXY\"] = \"easi-caching-proxy.caching-proxy:80\"\n",
    "print(f'Will use caching proxy at: {os.environ.get(\"GDAL_HTTP_PROXY\")}')\n",
    "\n",
    "# Optional: Dask\n",
    "cluster, client = initialize_dask(use_gateway=False, workers=(1,8), wait=False)\n",
    "if cluster:\n",
    "    display(cluster)\n",
    "else:\n",
    "    print(f'Using dask LocalCluster: {localcluster_dashboard(client)}')"
   ]
  },
  {
   "cell_type": "markdown",
   "id": "ad316d32-2abe-4d82-add9-b3608b1263f3",
   "metadata": {},
   "source": [
    "## Select an area of interest"
   ]
  },
  {
   "cell_type": "code",
   "execution_count": null,
   "id": "d7a309f7-09e4-45cb-bd53-d22dd6875c6e",
   "metadata": {},
   "outputs": [],
   "source": [
    "# Select Landsat or Sentinel-2\n",
    "\n",
    "do_landsat = True\n",
    "do_sentinel = False"
   ]
  },
  {
   "cell_type": "code",
   "execution_count": null,
   "id": "907e100c-5f4e-4f6f-a785-b3841ed031b7",
   "metadata": {},
   "outputs": [],
   "source": [
    "# Select a bounding box\n",
    "\n",
    "# Vietnam - Ha Long\n",
    "# latitude = (20.8, 20.9)\n",
    "# longitude = (106.8, 106.9)\n",
    "# time=('2020-02-01', '2020-02-20')\n",
    "\n",
    "# Fiji - blows up JHub memory due to antemeridian\n",
    "# latitude = (-17.1, -16.2)\n",
    "# longitude = (178.2, 180.0)\n",
    "# time=('2020-02-01', '2020-02-20')\n",
    "\n",
    "# PNG Milne Bay\n",
    "latitude = (-10.8, -10)\n",
    "longitude = (149.7, 150.8)  \n",
    "time=('2020-02-01', '2020-02-20')\n",
    "\n",
    "# west, south, east, north\n",
    "bbox = [longitude[0], latitude[0], longitude[1], latitude[1]]\n",
    "\n",
    "# Display bounding box on a map\n",
    "display_map(longitude, latitude)"
   ]
  },
  {
   "cell_type": "markdown",
   "id": "94c5de33-2a21-4f23-999a-cf1a43eb6dba",
   "metadata": {},
   "source": [
    "## Landsat configuration and settings"
   ]
  },
  {
   "cell_type": "code",
   "execution_count": null,
   "id": "8dfe3fa7-8f3a-4a49-aaf8-679fbf3aa63d",
   "metadata": {},
   "outputs": [],
   "source": [
    "if do_landsat:\n",
    "\n",
    "    # STAC catalog and query\n",
    "    catalog = Client.open('https://landsatlook.usgs.gov/stac-server/')\n",
    "    product = 'landsat-c2l2-sr'\n",
    "    query_cfg = [\"platform=LANDSAT_8\", \"landsat:collection_category=T1\"]\n",
    "\n",
    "    # Search for available items\n",
    "    query = catalog.search(\n",
    "        collections=[product], datetime=f'{time[0]}/{time[1]}', bbox=bbox, query=query_cfg\n",
    "    )\n",
    "    items = list(query.get_items())\n",
    "    print(f\"Found: {len(items):d} datasets\")\n",
    "\n",
    "    # Rewrite URLs to use S3\n",
    "    def landsat_patch(uri: str) -> str:\n",
    "        \"\"\"Return the S3 version of the URI\"\"\"\n",
    "        return uri.replace('https://landsatlook.usgs.gov/data/', 's3://usgs-landsat/')\n",
    "\n",
    "    # Change or update STAC information for use by ODC \n",
    "    stac2odc_cfg = {\n",
    "        'landsat-c2l2-sr': {\n",
    "            # 'aliases': {'red': 'red', 'nir': 'nir08', 'pixel_quality': 'qa_pixel'},\n",
    "        },\n",
    "        \"*\": {\"warnings\": \"ignore\"},\n",
    "    }\n",
    "\n",
    "    # `stac_load` parameters\n",
    "    stac_call = {\n",
    "        'bands': ('red', 'nir', 'pixel_quality'),  # Optional: selected bands\n",
    "        'chunks': {},                              # If using Dask\n",
    "        'groupby': \"solar_day\",                    # \"solarday = group scenes on same solar day into same time layer in cube\n",
    "        'stac_cfg': stac2odc_cfg,\n",
    "        'patch_url': landsat_patch,\n",
    "    }\n",
    "\n",
    "    # Additional Landsat band specifications\n",
    "    band_specs = {\n",
    "        'red': {\n",
    "            'scale': 0.0000275,\n",
    "            'offset': -0.2\n",
    "        },\n",
    "        'nir': {\n",
    "            'scale': 0.0000275,\n",
    "            'offset': -0.2\n",
    "        },\n",
    "    }"
   ]
  },
  {
   "cell_type": "markdown",
   "id": "3b2f1e54-e632-4eaa-bb59-c02e5ae1361d",
   "metadata": {},
   "source": [
    "## Sentinel-2 configuration and settings"
   ]
  },
  {
   "cell_type": "code",
   "execution_count": null,
   "id": "0ec2ccff-f742-4bf4-8262-ba12acd20e53",
   "metadata": {},
   "outputs": [],
   "source": [
    "if do_sentinel:\n",
    "    \n",
    "    # STAC catalog and query\n",
    "    catalog = Client.open('https://earth-search.aws.element84.com/v0')\n",
    "    product = 'sentinel-s2-l2a-cogs'\n",
    "    \n",
    "    # Search for available items\n",
    "    query = catalog.search(\n",
    "        collections=[product], datetime=f'{time[0]}/{time[1]}', bbox=bbox,\n",
    "    )\n",
    "    items = list(query.get_items())\n",
    "    print(f\"Found: {len(items):d} datasets\")\n",
    "    \n",
    "    # Rewrite URLs to use S3\n",
    "    def patch(uri: str) -> str:\n",
    "        \"\"\"Return the Sentinel-2 S3 version of the URI\"\"\"\n",
    "        return uri.replace('https://sentinel-cogs.s3.us-west-2.amazonaws.com/', 's3://sentinel-cogs/')\n",
    "    \n",
    "    # Change or update STAC information for use by ODC \n",
    "    stac2odc_cfg = {\n",
    "        \"sentinel-s2-l2a-cogs\": {\n",
    "            \"assets\": {\n",
    "                \"*\": {\"data_type\": \"uint16\", \"nodata\": 0},\n",
    "                \"SCL\": {\"data_type\": \"uint8\", \"nodata\": 0},\n",
    "                \"visual\": {\"data_type\": \"uint8\", \"nodata\": 0},\n",
    "            },\n",
    "            \"aliases\": {\"red\": \"B04\", \"green\": \"B03\", \"blue\": \"B02\"},\n",
    "        },\n",
    "        \"*\": {\"warnings\": \"ignore\"},\n",
    "    }\n",
    "    \n",
    "    # `stac_load` parameters\n",
    "    stac_call = {\n",
    "        'bands': (\"B04\",),\n",
    "        'crs': crs,\n",
    "        'resolution': 30,\n",
    "        # chunks={},  # <-- use Dask\n",
    "        # groupby=\"solar_day\",\n",
    "        'stac_cfg': cfg,\n",
    "        'patch_url': patch,\n",
    "    }"
   ]
  },
  {
   "cell_type": "code",
   "execution_count": null,
   "id": "281736e3-50fc-42bd-8cef-edf70915c088",
   "metadata": {},
   "outputs": [],
   "source": [
    "# Optional: Explore the structure of a STAC item\n",
    "# Optional: Select or filter scenes\n",
    "\n",
    "display(f'Canonical names: {items[0].assets.keys()}')\n",
    "display(items[0])"
   ]
  },
  {
   "cell_type": "markdown",
   "id": "12f29e64-d8b0-437c-9889-89968b0da034",
   "metadata": {},
   "source": [
    "## Load the selected items into an `xarray` cube"
   ]
  },
  {
   "cell_type": "code",
   "execution_count": null,
   "id": "40ccb92e-b43a-4962-b771-0e320f7bbd7b",
   "metadata": {
    "tags": []
   },
   "outputs": [],
   "source": [
    "xx = stac_load(items, **stac_call)\n",
    "\n",
    "display(xarray_object_size(xx))\n",
    "display(xx)\n",
    "display(xx.odc.geobox)"
   ]
  },
  {
   "cell_type": "markdown",
   "id": "63dbe424-99fb-4f52-98c1-5687b7503903",
   "metadata": {},
   "source": [
    "## Visual check"
   ]
  },
  {
   "cell_type": "code",
   "execution_count": null,
   "id": "a77d97c9-1396-48a8-bfc0-28081daea09f",
   "metadata": {},
   "outputs": [],
   "source": [
    "# First look\n",
    "\n",
    "xx.red.isel(time=0).plot()"
   ]
  },
  {
   "cell_type": "code",
   "execution_count": null,
   "id": "f8b38684-abca-4896-aa58-fa1e71523d9f",
   "metadata": {},
   "outputs": [],
   "source": [
    "## Apply scale and offset"
   ]
  },
  {
   "cell_type": "code",
   "execution_count": null,
   "id": "5456df96-e9a9-4b7f-bad6-bc7d661c92ac",
   "metadata": {},
   "outputs": [],
   "source": [
    "## Add coastline"
   ]
  },
  {
   "cell_type": "markdown",
   "id": "1ddcc241-b69c-4018-8002-838ca816bb62",
   "metadata": {},
   "source": [
    "## Export cube layers to netCDF or Geotiff"
   ]
  },
  {
   "cell_type": "code",
   "execution_count": null,
   "id": "d8281473-2034-4eb0-95ba-34f863d29976",
   "metadata": {},
   "outputs": [],
   "source": []
  }
 ],
 "metadata": {
  "kernelspec": {
   "display_name": "Python 3 (ipykernel)",
   "language": "python",
   "name": "python3"
  },
  "language_info": {
   "codemirror_mode": {
    "name": "ipython",
    "version": 3
   },
   "file_extension": ".py",
   "mimetype": "text/x-python",
   "name": "python",
   "nbconvert_exporter": "python",
   "pygments_lexer": "ipython3",
   "version": "3.8.10"
  }
 },
 "nbformat": 4,
 "nbformat_minor": 5
}
