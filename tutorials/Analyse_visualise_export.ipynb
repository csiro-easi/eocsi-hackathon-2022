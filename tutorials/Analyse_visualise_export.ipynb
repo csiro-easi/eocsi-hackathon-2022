{
 "cells": [
  {
   "cell_type": "markdown",
   "id": "90409118-bc0e-4e26-bafb-b45fb537e231",
   "metadata": {},
   "source": [
    "# EOCSI EASI training session 2: Learning to transform, visualise, analyse, and export data"
   ]
  },
  {
   "cell_type": "markdown",
   "id": "97df1821-aa2b-4af5-9b74-effd4165138f",
   "metadata": {},
   "source": [
    "This notebook will demonstrate how you can work with a specific area of interest from a geospatial data file. \n",
    "\n",
    "Once you have completed running all of the steps in the notebook, you can use it as a reference to start analysing your own area of interest. This notebook covers the following steps, many of which are boardly applicable to remote sensing analyses\n",
    "\n",
    "1. Select an area of interest from a shapefile (or other geospatial data format)\n",
    "2. Load relevant data for your area using its geometry, and mask the data to that area\n",
    "3. Calculate the relevant index for your analysis and take the median to get a representative composite\n",
    "4. Automatically identify a valid threshold to distinguish different landcover types in your area of interest\n",
    "5. Calculate the total area covered by a given land cover type, and plot how it changes over time\n",
    "6. Export your dataset as a raster to be used in other workflows\n",
    "\n",
    "In this example, we'll be looking at urban expansion around Jakarta\n"
   ]
  },
  {
   "cell_type": "markdown",
   "id": "3f2eb327-0312-40f6-950c-112a1bd7a73c",
   "metadata": {},
   "source": [
    "## Set up\n",
    "\n",
    "### Import required packages and functions"
   ]
  },
  {
   "cell_type": "code",
   "execution_count": null,
   "id": "bb1f618e-e4ab-4939-9587-b227a92a8b69",
   "metadata": {},
   "outputs": [],
   "source": [
    "import datacube\n",
    "from datacube.utils.aws import configure_s3_access\n",
    "from datacube.utils.geometry import Geometry\n",
    "from datacube.utils import masking\n",
    "from datacube.utils.cog import write_cog\n",
    "from dea_tools.spatial import xr_rasterize\n",
    "import geopandas as gpd\n",
    "from odc.algo import xr_geomedian\n",
    "import matplotlib.pyplot as plt\n",
    "import numpy as np\n",
    "import os\n",
    "from skimage.filters import threshold_otsu"
   ]
  },
  {
   "cell_type": "markdown",
   "id": "4cd48c8c-57d7-4428-92db-ac42ec5f605e",
   "metadata": {},
   "source": [
    "### Make a directory in the tutorials folder to store results in"
   ]
  },
  {
   "cell_type": "code",
   "execution_count": null,
   "id": "0ac934a5-8cf3-438d-bd1b-eeabaf444a8a",
   "metadata": {},
   "outputs": [],
   "source": [
    "# make a results directory to store output\n",
    "\n",
    "if not os.path.exists(\"results\"):\n",
    "    os.makedirs(\"results\")"
   ]
  },
  {
   "cell_type": "markdown",
   "id": "effa7e01-25d2-4d12-98f5-efc0fe99d553",
   "metadata": {},
   "source": [
    "### Configure s3 access\n",
    "\n",
    "This is necessary for Sentinel-2 (\"s2_l2a\") products, which we'll use in this example. It is also required for Landsat (\"landsatN_c2l2_*\") products"
   ]
  },
  {
   "cell_type": "code",
   "execution_count": null,
   "id": "ddbf957d-6818-469c-a8a5-abd1d2eea078",
   "metadata": {},
   "outputs": [],
   "source": [
    "configure_s3_access(aws_unsigned=False, requester_pays=True);"
   ]
  },
  {
   "cell_type": "markdown",
   "id": "c06fff7d-a28d-41b1-986a-896e9a8471ce",
   "metadata": {},
   "source": [
    "## Open and explore geospatial data\n",
    "\n",
    "In this example, we will explore urban expansion around Jakarta. We have provided the \"Jakarta_districts.shp\" file in the data folder for you to use in this example. This shapefile contains 46 kecamatan (sub-districts) within the provinsi (province) of Dki Jakarta. This is a subset of the data available from https://data.humdata.org/dataset/cod-ab-idn \n",
    "\n",
    "### Load the data using geopandas\n",
    "\n",
    "Geopandas is a useful python package for working with geospatial vector data. It allows you to read geospatial files in as tables, and provides useful functions for working with geometries. To learn more about geopandas, visit the [geopandas documentation](https://geopandas.org/en/stable/docs/user_guide.html)"
   ]
  },
  {
   "cell_type": "code",
   "execution_count": null,
   "id": "5d31666c-2035-4f4e-993f-510a9cbf92d6",
   "metadata": {},
   "outputs": [],
   "source": [
    "# Specify the path to the shapefile\n",
    "\n",
    "filename = \"data/jakarta_districts.shp\""
   ]
  },
  {
   "cell_type": "code",
   "execution_count": null,
   "id": "30f3f7ab-f40d-4a41-909b-fc9d790d089c",
   "metadata": {},
   "outputs": [],
   "source": [
    "# read the shapefile and store the outputs in a variable called \"geodataframe\"\n",
    "# the \"explode\" function is used to ensure multipolygons are split into multiple single polygons\n",
    "\n",
    "geodataframe = gpd.read_file(filename).explode(ignore_index=False, index_parts=False)"
   ]
  },
  {
   "cell_type": "markdown",
   "id": "fe8f839c-296e-46ed-a2ca-fd8e651f9e69",
   "metadata": {},
   "source": [
    "### Exploring the datafile\n",
    "\n",
    "Geopandas has two useful functions for getting an initial look at your spatial data. The first is \"explore\", which displays the polygons on a map. The second is \"head\", which allows you to look at the first five rows of your data. The first is useful of understanding the spatial distribution, the second is useful for understanding the attributes in the file and their values."
   ]
  },
  {
   "cell_type": "code",
   "execution_count": null,
   "id": "b637faae-6d56-45ed-b262-7c4b4a3a41db",
   "metadata": {},
   "outputs": [],
   "source": [
    "# Display the polygons on a map\n",
    "geodataframe.explore()"
   ]
  },
  {
   "cell_type": "code",
   "execution_count": null,
   "id": "6261f31a-3cf7-4ff8-a8bf-a90d440703c0",
   "metadata": {},
   "outputs": [],
   "source": [
    "# Display first 5 rows of the dataframe\n",
    "geodataframe.head()"
   ]
  },
  {
   "cell_type": "markdown",
   "id": "554f949a-01e3-4e27-950b-cb5afe2147b2",
   "metadata": {},
   "source": [
    "## Select areas of interest\n",
    "\n",
    "In this example, we'll look at urban growth over three years, in two different districts. For this example, we've chosen two districts, one on the eastern side of the city (Cilinging) and one on the southern side of the city (Cilandak). These two districts can be selected by providing a list containing their names, and then selecting rows from our geodataframe that contain these names in the \"ADM3_EN\" column. The code to do this is provided below, and will return a new variable \"areas_to_load\" containing only these two districts."
   ]
  },
  {
   "cell_type": "code",
   "execution_count": null,
   "id": "7dcce48e-4203-4cf7-afd2-7993341c419d",
   "metadata": {},
   "outputs": [],
   "source": [
    "# Choose locations to load:\n",
    "desired_locations = [\"Cilincing\", \"Cipayung\"]\n",
    "selection_column = \"ADM3_EN\"\n",
    "\n",
    "areas_to_load = geodataframe.loc[geodataframe[selection_column].isin(desired_locations), :].set_index(selection_column)\n",
    "\n",
    "areas_to_load"
   ]
  },
  {
   "cell_type": "markdown",
   "id": "14656a8b-7837-45f1-bbc1-96c6390444a3",
   "metadata": {},
   "source": [
    "## Decide which satellite data to load\n",
    "\n",
    "### Date range\n",
    "\n",
    "We will look at the area for a period of three years, from the beginning of 2017 to the end of 2019.\n",
    "\n",
    "### Satellite product\n",
    "\n",
    "For this time range, we can use Sentinel-2, which has a higher revisit time than Landsat, as well as higher spatial resolution.\n",
    "\n",
    "### Satellite measurements\n",
    "\n",
    "For this analysis, we'll be calculating the enhanced normalized difference impervious surfaces index (ENDISI), proposed in [this paper by Chen et al.](https://www.spiedigitallibrary.org/journals/journal-of-applied-remote-sensing/volume-13/issue-01/016502/Enhanced-normalized-difference-index-for-impervious-surface-area-estimation-at/10.1117/1.JRS.13.016502.full?SSO=1)\n",
    "\n",
    "Like all normalised difference indicies, it has a range of `[-1, 1]`.\n",
    "Note that `MNDWI`, `swir_ratio` and `alpha` are all part of the ENDISI calculation. The mean is calculated for each observation.\n",
    "\n",
    "$$\n",
    "\\begin{aligned}\n",
    "\\text{MNDWI} = \\frac{\\text{GREEN} - \\text{SWIR1}}{\\text{GREEN} + \\text{SWIR1}}\n",
    "\\end{aligned}\n",
    "$$\n",
    "\n",
    "$$\n",
    "\\begin{aligned}\n",
    "\\text{swir_ratio} = \\frac{\\text{SWIR1}}{\\text{SWIR2}}\n",
    "\\end{aligned}\n",
    "$$\n",
    "\n",
    "$$\n",
    "\\begin{aligned}\n",
    "\\text{alpha} = \\frac{2 * \\text{mean(BLUE)}}{\\text{mean(swir_ratio) + mean(MNDWI}^2)}\n",
    "\\end{aligned}\n",
    "$$\n",
    "\n",
    "$$\n",
    "\\begin{aligned}\n",
    "\\text{ENDISI} = \\frac{\\text{BLUE} - \\text{alpha}*(\\text{swir_ratio} + \\text{MNDWI}^2)}\n",
    "{\\text{BLUE} + \\text{alpha}*(\\text{swir_ratio} + \\text{MNDWI}^2)}\n",
    "\\end{aligned}\n",
    "$$\n",
    "\n",
    "Based on the equations above, the following measurements need to be loaded:\n",
    "- `green`\n",
    "- `blue`\n",
    "- `swir_1`\n",
    "- `swir_2`\n",
    "\n",
    "We will also load the `mask` band to remove cloud affected pixels from Sentinel-2 imagery.\n",
    "\n",
    "### Resolution and projection\n",
    "\n",
    "We will load all pixels at 20m resolution, as the `swir` measurements are only available at this resolution.\n",
    "\n",
    "We will load the data in its native coordinate reference system (CRS) to avoid transforming the data. The native crs for Sentinel-2 data over Jakarta is EPSG:32748. To determine this, we selected a Sentinel-2 tile in the [EASI Explorer](https://explorer.asia.easi-eo.solutions/products/s2_l2a/datasets/972e35d4-dfe3-5578-807d-384cdd3ebb0b) and viewed the metadata.\n",
    "\n",
    "### Dask\n",
    "\n",
    "The dask chunks setting allows our data to be processed in parallel. For the districts we're exploring, chunks of 500 pixels by 500 pixels is sufficient."
   ]
  },
  {
   "cell_type": "code",
   "execution_count": null,
   "id": "e438ed7d-be76-4e66-a71e-6a3b0fa3eb0a",
   "metadata": {},
   "outputs": [],
   "source": [
    "# Date range\n",
    "time_range = (\"2017-01-01\", \"2019-12-31\")\n",
    "\n",
    "# Satellite product\n",
    "products = [\"s2_l2a\"]\n",
    "\n",
    "# Satellite measurements\n",
    "measurements = [\"green\", \"blue\", \"swir_1\", \"swir_2\", \"mask\"]\n",
    "\n",
    "# Resoultion and reprojection\n",
    "resolution = (20, -20)\n",
    "output_crs = \"EPSG:32748\"\n",
    "\n",
    "# Dask\n",
    "dask_chunks = {\"time\": 1, \"x\":500, \"y\":500}"
   ]
  },
  {
   "cell_type": "code",
   "execution_count": null,
   "id": "ccd3bfa5-98ed-485f-a765-6c47ab3bcadb",
   "metadata": {},
   "outputs": [],
   "source": [
    "# Add the settings into a dictionary, which can be used for all areas of interest\n",
    "query = {\n",
    "    \"time\": time_range,\n",
    "    \"product\": products,\n",
    "    \"measurements\": measurements,\n",
    "    \"resolution\": resolution,\n",
    "    \"output_crs\": output_crs,\n",
    "    \"group_by\": \"solar_day\",\n",
    "    \"dask_chunks\": dask_chunks,\n",
    "}"
   ]
  },
  {
   "cell_type": "markdown",
   "id": "e23ed326-c364-4163-b724-6b3c0ae3f594",
   "metadata": {},
   "source": [
    "## Load data for each area of interest\n",
    "\n",
    "The following code runs a number of steps for each area of interest in the `areas_to_load` geodataframe:\n",
    "\n",
    "1. Add the polygon for the area to the datacube query dictionary\n",
    "2. Load the data specified by the query dictionary\n",
    "3. Remove cloud affected pixels using the Sentinel-2 mask band\n",
    "4. Remove pixels outside the area of interest\n",
    "5. Calculate ENDISI for all observations\n",
    "6. Calculate the annual median ENDISI value for each pixel\n",
    "7. Return the annual median ENDISI values\n",
    "\n",
    "The results are stored in a dictionary called `output_results`, where the key is the name of each area of interest."
   ]
  },
  {
   "cell_type": "code",
   "execution_count": null,
   "id": "19633177-8cf9-4413-95a5-4c2899160c36",
   "metadata": {},
   "outputs": [],
   "source": [
    "# Load data for areas within the shapefile\n",
    "\n",
    "from dask.diagnostics import ProgressBar\n",
    "\n",
    "# Connect to the datacube\n",
    "dc = datacube.Datacube()\n",
    "\n",
    "# Create a python dictionary to store the results\n",
    "output_results = {}\n",
    "\n",
    "for index, area in areas_to_load.iterrows():\n",
    "    \n",
    "    # Get area name\n",
    "    area_name = index\n",
    "    \n",
    "    # Get the polygon geometry for the event and add it to the query\n",
    "    geometry = Geometry(geom=area.geometry, crs=areas_to_load.crs)\n",
    "    query.update({\"geopolygon\": geometry})\n",
    "    \n",
    "    ds_s2 = dc.load(**query)\n",
    "    \n",
    "    # Apply cloud masking\n",
    "    cloud_free_mask = (\n",
    "        masking.make_mask(ds_s2.mask, qa=\"vegetation\") | \n",
    "        masking.make_mask(ds_s2.mask, qa=\"bare soils\") |\n",
    "        masking.make_mask(ds_s2.mask, qa=\"water\") |\n",
    "        masking.make_mask(ds_s2.mask, qa=\"snow or ice\")\n",
    "    )\n",
    "    \n",
    "    ds_s2 = ds_s2.where(cloud_free_mask)\n",
    "    \n",
    "    ## Apply area masking\n",
    "    area_mask = xr_rasterize(areas_to_load.loc[[index]], ds_s2)\n",
    "    ds_s2 = ds_s2.where(area_mask)\n",
    "    \n",
    "    # Calculate ENDISI\n",
    "    blue = ds_s2.blue\n",
    "    mean_blue = blue.mean(dim=(\"x\",\"y\"))\n",
    "\n",
    "    swir_ratio = ds_s2.swir_1/ds_s2.swir_2\n",
    "    mean_swir_ratio = swir_ratio.mean(dim=(\"x\",\"y\"))\n",
    "\n",
    "    mndwi = (ds_s2.green - ds_s2.swir_1)/(ds_s2.green + ds_s2.swir_1)\n",
    "    mndwi_sq = mndwi**2\n",
    "    mean_mndwi_sq = mndwi_sq.mean(dim=(\"x\",\"y\"))\n",
    "\n",
    "    alpha = (2*mean_blue)/(mean_swir_ratio + mean_mndwi_sq)\n",
    "    \n",
    "    ds_s2[\"endisi\"] = (blue - alpha*(swir_ratio + mndwi_sq))/(blue + alpha*(swir_ratio + mndwi_sq))\n",
    "    \n",
    "    # Calculate median ENDISI for each year to function as a mosaic\n",
    "    print(f\"Computing annual median ENDISI for {area_name}\")\n",
    "    with ProgressBar():\n",
    "        annual_median_endisi = ds_s2[\"endisi\"].groupby('time.year').median().compute()\n",
    "    \n",
    "    # Export results\n",
    "    output_results[area_name] = annual_median_endisi\n"
   ]
  },
  {
   "cell_type": "markdown",
   "id": "158d6a6c-2829-4f0c-becd-520b7bee5879",
   "metadata": {},
   "source": [
    "## Visualise data for each area of interest\n",
    "\n",
    "It is useful to visualise our initial results to understand them in more detail. ENDISI has higher values for impervious surfaces, like roads and buildings, all found in urban areas. The plots below should give you an understanding of how urbanised each district is, based on the proportion of high ENDISI values compared to low ENDISI values.\n",
    "\n",
    "For each area, we'll extract the data into a new variable to make it easier to work with"
   ]
  },
  {
   "cell_type": "markdown",
   "id": "1c013ab0-b7cc-40b6-93ea-b7cecc8531f0",
   "metadata": {},
   "source": [
    "### Cipayung"
   ]
  },
  {
   "cell_type": "code",
   "execution_count": null,
   "id": "b8fe81de-46b1-4d95-b35b-f7baf0a5c7a1",
   "metadata": {},
   "outputs": [],
   "source": [
    "cipayung_endisi = output_results[\"Cipayung\"]\n",
    "\n",
    "cipayung_endisi.plot(col='year', col_wrap=3)"
   ]
  },
  {
   "cell_type": "markdown",
   "id": "e4ad345b-aabf-462e-8d78-b1b99b3b7802",
   "metadata": {},
   "source": [
    "### Cilincing"
   ]
  },
  {
   "cell_type": "code",
   "execution_count": null,
   "id": "4b77a4c1-3f1c-4bb9-b0b8-b7399a057405",
   "metadata": {},
   "outputs": [],
   "source": [
    "cilincing_endisi = output_results[\"Cilincing\"]\n",
    "\n",
    "cilincing_endisi.plot(col='year', col_wrap=3)"
   ]
  },
  {
   "cell_type": "markdown",
   "id": "f28fee6a-b5ea-45ea-97f3-6bcba686e79c",
   "metadata": {},
   "source": [
    "## Identifying urban areas through thresholding\n",
    "\n",
    "While higher values of ENDISI indicate impervious surfaces common in urban areas, there is no universal cut-off value that distinguishes between urban and non-urban. To estimate such a value, it is useful to look at the histogram of ENDISI values for each area, with the expectation that there are two general classes we want to distinguish - urban and non-urban. \n",
    "\n",
    "The next cell defines a function that automatically estimates the threshold for separating the two classes, and displays this on a histogram. The method used is the Otsu Threshold method, implemented in [scikit-image](https://scikit-image.org/docs/dev/auto_examples/segmentation/plot_thresholding.html)."
   ]
  },
  {
   "cell_type": "code",
   "execution_count": null,
   "id": "9da1f155-9d00-4905-8e5f-2b93e64c4577",
   "metadata": {},
   "outputs": [],
   "source": [
    "# Function to calculate and display automatic threshold\n",
    "\n",
    "def get_threshold(da):\n",
    "    \n",
    "    da_valid = da.values[~np.isnan(da.values)]\n",
    "    threshold = threshold_otsu(da_valid)\n",
    "    \n",
    "    fig, ax = plt.subplots(figsize=(10, 4))\n",
    "    da.plot.hist(\n",
    "        ax=ax,\n",
    "        bins=1000,\n",
    "        range=(-1, 1),\n",
    "        facecolor='gray',\n",
    "    )\n",
    "    ax.axvline(x=threshold)\n",
    "    ax.set_title(\"Index Histogram\")\n",
    "    ax.set_ylabel(\"Pixel Count\")\n",
    "    ax.set_xlabel(\"Index Value\")\n",
    "    \n",
    "    plt.show()\n",
    "    \n",
    "    return threshold"
   ]
  },
  {
   "cell_type": "markdown",
   "id": "bc0058df-0293-4e81-a974-f94dc047fc31",
   "metadata": {},
   "source": [
    "### Cipayung"
   ]
  },
  {
   "cell_type": "code",
   "execution_count": null,
   "id": "e1f88825-3fe0-4b1a-aaa1-2d56e9bbf3a3",
   "metadata": {},
   "outputs": [],
   "source": [
    "cipayung_threshold = get_threshold(cipayung_endisi)\n",
    "\n",
    "print(f\"The threshold for urban/non-urban in Cipayung is {round(cipayung_threshold, 2)}\")"
   ]
  },
  {
   "cell_type": "markdown",
   "id": "f962e007-64c0-4093-80dc-c8d9e3f050f1",
   "metadata": {},
   "source": [
    "### Cilincing"
   ]
  },
  {
   "cell_type": "code",
   "execution_count": null,
   "id": "aab99810-bcfa-4dac-b9cb-0525a6a15548",
   "metadata": {},
   "outputs": [],
   "source": [
    "cilincing_threshold = get_threshold(cilincing_endisi)\n",
    "\n",
    "print(f\"The threshold for urban/non-urban in Cilincing is {round(cilincing_threshold, 2)}\")"
   ]
  },
  {
   "cell_type": "markdown",
   "id": "25cf07df-0927-4ee5-ac95-95ccabb0acd3",
   "metadata": {},
   "source": [
    "## Estimating change in urban area over time\n",
    "\n",
    "Now that we have values to use for thresholding, it is possible to classify the ENDISI value as either urban (ENDISI values greater than the threshold) and non-urban (values lower than the threshold). From this, we can multiply the number of pixels classified as urban in a given year by the area covered by each pixel to estimate the total geographic area. Given we know the total area of each district, it is also possible to estimate the proportion of the district that is made up of urban structures."
   ]
  },
  {
   "cell_type": "code",
   "execution_count": null,
   "id": "fe017d30-3859-442d-980f-49225b6e0628",
   "metadata": {},
   "outputs": [],
   "source": [
    "# Units for area estimation\n",
    "\n",
    "area_per_pixel = abs(resolution[0])**2   # area per pixel in metres squared\n",
    "msq_per_kmsq = 1000000   # number of square metres per square kilometre\n"
   ]
  },
  {
   "cell_type": "code",
   "execution_count": null,
   "id": "e8abc996-b307-4cdf-b568-54f174d1f436",
   "metadata": {},
   "outputs": [],
   "source": [
    "# Area units\n",
    "areas_size = areas_to_load.to_crs(output_crs)\n",
    "areas_size[\"area_sqkm\"] = areas_size.area / msq_per_kmsq\n",
    "\n",
    "areas_size"
   ]
  },
  {
   "cell_type": "markdown",
   "id": "5ecce4de-4a19-48ed-adc6-d6fc642bb478",
   "metadata": {},
   "source": [
    "### Cipayung"
   ]
  },
  {
   "cell_type": "code",
   "execution_count": null,
   "id": "1d25b03e-e48c-4022-8779-eea40b4a8939",
   "metadata": {},
   "outputs": [],
   "source": [
    "# Extract the total area of the district \n",
    "cipayung_total_area = areas_size.at[\"Cipayung\", \"area_sqkm\"]\n",
    "\n",
    "# Classify all pixels with ENDISI values above the threshold as urban. Returns 1 if urban, 0 if non-urban\n",
    "cipayung_urban = (cipayung_endisi >= cipayung_threshold)\n",
    "\n",
    "# count the number of urban pixels by summing up the values, then multiply by area per pixel and divide by the number of square metres in a square kilometre\n",
    "cipayung_urban_area_kmsq = cipayung_urban.sum(dim=(\"x\", \"y\")) * area_per_pixel / msq_per_kmsq\n",
    "\n",
    "# get the proportion of the district classified as urban by dividing the estimate\n",
    "cipayung_urban_proportion = cipayung_urban_area_kmsq / cipayung_total_area"
   ]
  },
  {
   "cell_type": "code",
   "execution_count": null,
   "id": "95f9e089-7705-4461-8824-083d6a0107a8",
   "metadata": {},
   "outputs": [],
   "source": [
    "# Display the urban/non urban classification (urban in yellow, non urban in blue)\n",
    "cipayung_urban.plot(col='year', col_wrap=3, add_colorbar=False)"
   ]
  },
  {
   "cell_type": "markdown",
   "id": "dc43f899-1a02-4f5e-b7c4-273ab8302004",
   "metadata": {},
   "source": [
    "### Cilincing"
   ]
  },
  {
   "cell_type": "code",
   "execution_count": null,
   "id": "0703639d-25bd-46f0-8746-dacc96519197",
   "metadata": {},
   "outputs": [],
   "source": [
    "# Extract the total area of the district \n",
    "cilincing_total_area = areas_size.at[\"Cilincing\", \"area_sqkm\"]\n",
    "\n",
    "# Classify all pixels with ENDISI values above the threshold as urban. Returns 1 if urban, 0 if non-urban\n",
    "cilincing_urban = (cilincing_endisi >= cilincing_threshold)\n",
    "\n",
    "# count the number of urban pixels by summing up the values, then multiply by area per pixel and divide by the number of square metres in a square kilometre\n",
    "cilincing_urban_area_kmsq = cilincing_urban.sum(dim=(\"x\", \"y\")) * area_per_pixel / msq_per_kmsq\n",
    "\n",
    "# get the proportion of the district classified as urban by dividing the estimate\n",
    "cilincing_urban_proportion = cilincing_urban_area_kmsq / cilincing_total_area"
   ]
  },
  {
   "cell_type": "code",
   "execution_count": null,
   "id": "91bd478b-8a84-4b28-b64c-fa15eb51ac2d",
   "metadata": {},
   "outputs": [],
   "source": [
    "cilincing_urban.plot(col='year', col_wrap=3, add_colorbar=False)"
   ]
  },
  {
   "cell_type": "markdown",
   "id": "7b4398df-cc18-46e7-80f5-7e31f64a6ff4",
   "metadata": {},
   "source": [
    "## Displaying change in total area and proportional area for both districts\n",
    "\n",
    "The following code leverages Xarray's in-built plotting library, as well as matplotlib."
   ]
  },
  {
   "cell_type": "code",
   "execution_count": null,
   "id": "74c6c0d4-178c-442b-8a86-e5f4bf543757",
   "metadata": {},
   "outputs": [],
   "source": [
    "year_ticks = [2017, 2018, 2019]\n",
    "labels = []\n",
    "\n",
    "fig, (ax_total, ax_prop) = plt.subplots(1, 2, figsize=(12, 4))\n",
    "\n",
    "# Total Urban Area plot\n",
    "cipayung_urban_area_kmsq.plot(ax=ax_total)\n",
    "cilincing_urban_area_kmsq.plot(ax=ax_total)\n",
    "ax_total.set_xticks(year_ticks)\n",
    "ax_total.set_title(\"Total area classified as Urban over time\")\n",
    "ax_total.set_xlabel(\"Year\")\n",
    "ax_total.set_ylabel(\"Total urban area (km$^2$)\")\n",
    "ax_total.set_xticks(year_ticks)\n",
    "\n",
    "# Proportion plot - multiply by 100 to get a percentage\n",
    "(cipayung_urban_proportion * 100).plot(ax=ax_prop)\n",
    "labels.append(\"Cipayung\")\n",
    "(cilincing_urban_proportion * 100).plot(ax=ax_prop)\n",
    "labels.append(\"Cilincing\")\n",
    "ax_prop.set_title(\"Percentage area classified as Urban over time\")\n",
    "ax_prop.set_xlabel(\"Year\")\n",
    "ax_prop.set_ylabel(\"Percentage urban area\")\n",
    "ax_prop.set_xticks(year_ticks)\n",
    "\n",
    "ax_prop.legend(labels, ncol=1, fontsize=12)\n",
    "\n",
    "plt.show()"
   ]
  },
  {
   "cell_type": "markdown",
   "id": "798bac36-4d06-4f4e-8b32-154d1c4e49c6",
   "metadata": {},
   "source": [
    "### Export the final figure"
   ]
  },
  {
   "cell_type": "code",
   "execution_count": null,
   "id": "a5d4a389-867a-4403-bb4e-6b1d8598d6e3",
   "metadata": {},
   "outputs": [],
   "source": [
    "figure_filename = \"results/urban_area_change_jakarta.png\"\n",
    "fig.savefig(figure_filename, bbox_inches=\"tight\", transparent=False)"
   ]
  },
  {
   "cell_type": "markdown",
   "id": "e836536d-fbca-40b9-a1b8-b4d120cdf1d9",
   "metadata": {},
   "source": [
    "## Export urban area rasters to geotiffs\n",
    "\n",
    "This step is useful if you want to further analyse your data, or display it in another service. For each district, we'll save out a geotif of the urban areas, where a value of 1 indicates urban, and a value of 0 indicates non-urban."
   ]
  },
  {
   "cell_type": "code",
   "execution_count": null,
   "id": "f4ab238b-71d0-4756-9e66-4f8ae462a0a7",
   "metadata": {},
   "outputs": [],
   "source": [
    "# Export cilincing urban product to geotiff\n",
    "for i in range(len(cilincing_urban.year)):\n",
    "    \n",
    "    date = year_ticks[i]\n",
    "    \n",
    "    urban_area = cilincing_urban.isel(year=i).astype(\"uint8\")\n",
    "    \n",
    "    write_cog(geo_im=urban_area,\n",
    "              fname=f'results/cilincing_urban_extent_{date}.tif',\n",
    "              overwrite=True)"
   ]
  },
  {
   "cell_type": "code",
   "execution_count": null,
   "id": "1e5a44b4-f9f9-4a61-84b9-fa5949b78e67",
   "metadata": {},
   "outputs": [],
   "source": [
    "# Export cipayung urban product to geotiff\n",
    "for i in range(len(cipayung_urban.year)):\n",
    "    \n",
    "    date = year_ticks[i]\n",
    "    \n",
    "    urban_area = cipayung_urban.isel(year=i).astype(\"uint8\")\n",
    "    \n",
    "    write_cog(geo_im=urban_area,\n",
    "              fname=f'results/cipayung_urban_extent_{date}.tif',\n",
    "              overwrite=True)"
   ]
  },
  {
   "cell_type": "markdown",
   "id": "5d16be1f-6aba-44b6-870a-a63ed165e034",
   "metadata": {},
   "source": [
    "## Practice now\n",
    "\n",
    "Make a copy of this notebook so that you can keep this one as a reference. Some things you might like to try:\n",
    "\n",
    "1. Replace the shapefile used in this example with one relevant to your use case, and adapt which areas you select for analysis.\n",
    "2. Calculate a different band index when loading the data. Think about which measurments you'll need, and how to calculate the values.\n",
    "3. Look online for how to make visually appealing plots with matplotlib, and see if you can customise the plots further.\n"
   ]
  }
 ],
 "metadata": {
  "kernelspec": {
   "display_name": "Python 3 (ipykernel)",
   "language": "python",
   "name": "python3"
  },
  "language_info": {
   "codemirror_mode": {
    "name": "ipython",
    "version": 3
   },
   "file_extension": ".py",
   "mimetype": "text/x-python",
   "name": "python",
   "nbconvert_exporter": "python",
   "pygments_lexer": "ipython3",
   "version": "3.8.10"
  }
 },
 "nbformat": 4,
 "nbformat_minor": 5
}
