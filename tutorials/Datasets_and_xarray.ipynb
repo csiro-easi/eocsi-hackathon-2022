{
 "cells": [
  {
   "cell_type": "markdown",
   "id": "d4cb7e03-8aca-4838-a4e7-2c7921463389",
   "metadata": {},
   "source": [
    "# EOCSI EASI training session 1: Introduction, datasets and xarray"
   ]
  },
  {
   "cell_type": "markdown",
   "id": "e6bc5fd1-001d-471c-8592-36a5732af1dd",
   "metadata": {},
   "source": [
    "## 1. Accessing data through EASI ODC API"
   ]
  },
  {
   "cell_type": "markdown",
   "id": "18c6cb63-47c8-4e00-9ac7-f5c8f135c25e",
   "metadata": {},
   "source": [
    "View available products and data coverage at the EASI Explorer: https://explorer.asia.easi-eo.solutions"
   ]
  },
  {
   "cell_type": "markdown",
   "id": "dd73bc00-c6cb-4720-9bcd-837940c74bcb",
   "metadata": {},
   "source": [
    "### Determine parameters for accessing data\n",
    "\n",
    "#### Where and when?\n",
    "e.g. Singapore, recent\n",
    "\n",
    "\n",
    "#### What type of data? \n",
    "\n",
    "reflectance, temperature, elevation?\n",
    "\n",
    "#### What resolution and projection?\n",
    "\n",
    "e.g.: 10 m resolution and epsg:32648 (UTM) (https://explorer.asia.easi-eo.solutions/product/s2_l2a/regions/48NUG)\n",
    "\n",
    "or lat/lon and native grid for dataset"
   ]
  },
  {
   "cell_type": "markdown",
   "id": "65324ef4-21d0-404a-ab1c-cb349faebdb2",
   "metadata": {},
   "source": [
    "### Explore datasets through ODC API\n",
    "\n",
    "A good example for Sentinel-2 https://github.com/csiro-easi/eocsi-hackathon-2022/blob/main/case-studies/Chlorophyll_monitoring.ipynb"
   ]
  },
  {
   "cell_type": "code",
   "execution_count": null,
   "id": "de01fd95-f9d9-4bca-8df6-567ade177dde",
   "metadata": {},
   "outputs": [],
   "source": [
    "%matplotlib inline\n",
    "\n",
    "import datacube\n",
    "from datacube.utils import masking\n",
    "import matplotlib\n",
    "import matplotlib.pyplot as plt\n",
    "import numpy as np\n",
    "import pandas as pd\n",
    "import xarray as xr\n",
    "\n",
    "import warnings\n",
    "warnings.filterwarnings(\"ignore\")\n",
    "\n",
    "import sys\n",
    "sys.path.insert(1, '../Tools/')\n",
    "from dea_tools.plotting import rgb, display_map\n",
    "from dea_tools.bandindices import calculate_indices"
   ]
  },
  {
   "cell_type": "code",
   "execution_count": null,
   "id": "2735c921-e9ef-4f63-9daa-211dc4e74f54",
   "metadata": {},
   "outputs": [],
   "source": [
    "#import datacube\n",
    "\n",
    "dc = datacube.Datacube(app=\"data_avail\")\n",
    "dc.list_products()"
   ]
  },
  {
   "cell_type": "code",
   "execution_count": null,
   "id": "dae97df6-fcb6-46e5-9300-847f668a0aa8",
   "metadata": {},
   "outputs": [],
   "source": [
    "product = \"s2_l2a\""
   ]
  },
  {
   "cell_type": "code",
   "execution_count": null,
   "id": "a1b8fab0-f822-4a92-adf9-14c16dd87ace",
   "metadata": {},
   "outputs": [],
   "source": [
    "#dc.list_measurements().loc[\"nasa_aqua_l2_oc\"]\n",
    "dc.list_measurements().loc[product]"
   ]
  },
  {
   "cell_type": "markdown",
   "id": "4606dc6a-45d0-4957-b1b8-59a5f9d57120",
   "metadata": {},
   "source": [
    "Useful figure for Sentinel-2 spectral bands: https://www.usgs.gov/faqs/how-does-data-sentinel-2as-multispectral-instrument-compare-landsat-data"
   ]
  },
  {
   "cell_type": "code",
   "execution_count": null,
   "id": "c6e2520e-f7d1-42b0-9110-a974016c06f5",
   "metadata": {},
   "outputs": [],
   "source": [
    "dc.list_measurements().loc[product].loc[\"SCL\"][\"flags_definition\"]"
   ]
  },
  {
   "cell_type": "markdown",
   "id": "09ff715f-22e3-4e25-b155-3ad035b6bd56",
   "metadata": {},
   "source": [
    "### Load data"
   ]
  },
  {
   "cell_type": "code",
   "execution_count": null,
   "id": "c1cf4fb5-a045-4fee-be24-1069b2e968e3",
   "metadata": {},
   "outputs": [],
   "source": [
    "# Define the area of interest  \n",
    "#latitude = (1.4300, 1.3950)\n",
    "#longitude = (103.82300, 103.87000)\n",
    "\n",
    "latitude = (-1.87, -1.85)\n",
    "longitude = (120.51, 120.53)\n",
    "\n",
    "time = (\"2022\")\n",
    "display_map(x=longitude, y=latitude)"
   ]
  },
  {
   "cell_type": "code",
   "execution_count": null,
   "id": "76e0091e-0469-43f3-8369-703941cfe621",
   "metadata": {},
   "outputs": [],
   "source": [
    "# Specify the parameters to pass to the load query\n",
    "query = {\n",
    "    \"x\": longitude,\n",
    "    \"y\": latitude,\n",
    "    \"time\": time,\n",
    "    \"group_by\": \"solar_day\", #\n",
    "    \"cloud_cover\": [0, 30], #\n",
    "    \"measurements\": [\"red\", \"green\", \"blue\", \"mask\"], #\n",
    "    \"output_crs\": \"EPSG:32751\", #\n",
    "    \"resolution\": (-10, 10), # \n",
    "    #\"dask_chunks\": {} #{\"time\": 1, \"x\":400, \"y\":400} #\n",
    "}\n",
    "\n",
    "# Load the data\n",
    "ds_s2 = dc.load(product=product, **query)"
   ]
  },
  {
   "cell_type": "code",
   "execution_count": null,
   "id": "6349318e-ba9a-4456-bc00-e97f11c35623",
   "metadata": {},
   "outputs": [],
   "source": [
    "print(ds_s2)"
   ]
  },
  {
   "cell_type": "markdown",
   "id": "c0495b9c-ea9b-407a-abd8-0ed8caab21af",
   "metadata": {},
   "source": [
    "### Plot data\n",
    "\n",
    "Some plotting examples: https://github.com/GeoscienceAustralia/dea-notebooks/blob/develop/Beginners_guide/05_Plotting.ipynb"
   ]
  },
  {
   "cell_type": "code",
   "execution_count": null,
   "id": "d1a9a6bd-e708-4b25-a001-37d5bdc883a2",
   "metadata": {},
   "outputs": [],
   "source": [
    "ds_s2.isel(time=0)[[\"red\",\"green\",\"blue\"]].to_array().plot.imshow(robust=True);"
   ]
  },
  {
   "cell_type": "markdown",
   "id": "e6669a08-1169-4877-9eca-bb99e7d97f0b",
   "metadata": {},
   "source": [
    "### Mask data"
   ]
  },
  {
   "cell_type": "code",
   "execution_count": null,
   "id": "421b3d20-7703-48fe-875b-4deab5f01314",
   "metadata": {},
   "outputs": [],
   "source": [
    "masking.describe_variable_flags(ds_s2.mask)"
   ]
  },
  {
   "cell_type": "code",
   "execution_count": null,
   "id": "243457c2-a363-42ae-98a8-79861e2dd8ad",
   "metadata": {},
   "outputs": [],
   "source": [
    "masking.describe_variable_flags(ds_s2.mask).loc[\"qa\", \"values\"]"
   ]
  },
  {
   "cell_type": "code",
   "execution_count": null,
   "id": "66770df3-cce5-4e5c-a8ae-0c17a36da354",
   "metadata": {},
   "outputs": [],
   "source": [
    "# Multiple flags are combined as logial OR using the | symbol\n",
    "cloud_free_mask = (\n",
    "    masking.make_mask(ds_s2.mask, qa=\"vegetation\") | \n",
    "    masking.make_mask(ds_s2.mask, qa=\"bare soils\") |\n",
    "    masking.make_mask(ds_s2.mask, qa=\"water\") |\n",
    "    masking.make_mask(ds_s2.mask, qa=\"snow or ice\")\n",
    ")"
   ]
  },
  {
   "cell_type": "code",
   "execution_count": null,
   "id": "6de02c49-2d84-47d2-8929-45c93aaf2483",
   "metadata": {},
   "outputs": [],
   "source": [
    "# Calculate proportion of good pixels\n",
    "valid_pixel_proportion = cloud_free_mask.sum(dim=(\"x\", \"y\"))/(cloud_free_mask.shape[1] * cloud_free_mask.shape[2])\n",
    "\n",
    "valid_threshold = 0.5\n",
    "observations_to_keep = (valid_pixel_proportion >= valid_threshold)"
   ]
  },
  {
   "cell_type": "code",
   "execution_count": null,
   "id": "85b0a475-d94a-4ece-bd30-2c9c72398e0f",
   "metadata": {},
   "outputs": [],
   "source": [
    "# only keep observations above the good pixel proportion threshold\n",
    "# The .compute() step means the values will be loaded into memory. This step may take some time\n",
    "ds_s2 = ds_s2.sel(time=observations_to_keep)#.compute()"
   ]
  },
  {
   "cell_type": "code",
   "execution_count": null,
   "id": "5675011e-c10e-4879-aef6-73b734f29688",
   "metadata": {},
   "outputs": [],
   "source": [
    "ds_s2.isel(time=0)[[\"red\",\"green\",\"blue\"]].to_array().plot.imshow(robust=True);"
   ]
  },
  {
   "cell_type": "code",
   "execution_count": null,
   "id": "fd7cf5ae-eaa9-4196-afb3-a8f526f89193",
   "metadata": {},
   "outputs": [],
   "source": [
    "# Mask the data\n",
    "ds_s2_masked = ds_s2.where(cloud_free_mask)\n",
    "ds_s2_masked.isel(time=0)[[\"red\",\"green\",\"blue\"]].to_array().plot.imshow(robust=True);"
   ]
  },
  {
   "cell_type": "code",
   "execution_count": null,
   "id": "0b9b093d-21c1-4a5f-8e09-6fdbc82f2517",
   "metadata": {},
   "outputs": [],
   "source": [
    "print(ds_s2)"
   ]
  },
  {
   "cell_type": "markdown",
   "id": "fd406868-5dda-4da8-bedb-6baa865aab6d",
   "metadata": {},
   "source": [
    "## 2. Working with xarray"
   ]
  },
  {
   "cell_type": "markdown",
   "id": "f96e32b9-242b-4ad4-b1e2-868866a24229",
   "metadata": {},
   "source": [
    "Resources from https://github.com/csiro-easi/eocsi-hackathon-2022/blob/main/01-welcome-to-easi.ipynb\n",
    "\n",
    "Blog article on Xarray: https://towardsdatascience.com/basic-data-structures-of-xarray-80bab8094efa\n",
    "\n",
    "Xarray documentation: http://xarray.pydata.org/en/stable/user-guide/data-structures.html"
   ]
  },
  {
   "cell_type": "markdown",
   "id": "e93505e6-8fd4-4f48-8f2a-c7b1f58a92fb",
   "metadata": {},
   "source": [
    "### Data structure\n",
    "\n",
    ">Xarray allows us to work with **labeled multi-dimensional array**\n",
    "\n",
    "\n",
    "A `Dataset` can be seen as a dictionary structure packing up the data, dimensions and attributes. Variables in a `Dataset` object are called `DataArrays` and they share dimensions with the higher level `Dataset`. \n",
    "\n",
    "\n",
    "<img src=\"https://docs.xarray.dev/en/stable/_images/dataset-diagram.png\" alt=\"drawing\"/>\n",
    "\n",
    "\n",
    "See also the terminology: https://docs.xarray.dev/en/stable/user-guide/terminology.html"
   ]
  },
  {
   "cell_type": "markdown",
   "id": "c22c1ba7-97e2-455d-92e3-84c629eb4792",
   "metadata": {},
   "source": [
    "* Data variables are stored as numpy or dask array\n",
    "* Labels are in the forms of dimensions, coordinates and attributes\n",
    "* xarray uses matplotlib for plotting\n",
    "* ODC API (`datacube.load()`) loads data into a customized xarray dataset\n",
    "\n",
    "See also an intro notebook (including how to construct a xarray dataset): https://github.com/GeoscienceAustralia/dea-notebooks/blob/develop/Beginners_guide/08_Intro_to_xarray.ipynb\n",
    "\n",
    "And a more advanced notebook: https://rabernat.github.io/research_computing/xarray.html"
   ]
  },
  {
   "cell_type": "code",
   "execution_count": null,
   "id": "b8ea5de9-9132-4c95-b9de-ac10cc8d5eea",
   "metadata": {},
   "outputs": [],
   "source": [
    "print(ds_s2)"
   ]
  },
  {
   "cell_type": "code",
   "execution_count": null,
   "id": "a8168582-ef34-418d-82b9-6d8dd9da122d",
   "metadata": {},
   "outputs": [],
   "source": [
    "print(type(ds_s2.red.data))"
   ]
  },
  {
   "cell_type": "code",
   "execution_count": null,
   "id": "07cec64f-0bef-40e4-9bc6-3bc6d1bf69d9",
   "metadata": {},
   "outputs": [],
   "source": [
    "print(ds_s2.time)"
   ]
  },
  {
   "cell_type": "code",
   "execution_count": null,
   "id": "9abf2575-c635-4e3d-9284-b737b87aeead",
   "metadata": {},
   "outputs": [],
   "source": [
    "print(ds_s2.attrs)"
   ]
  },
  {
   "cell_type": "code",
   "execution_count": null,
   "id": "a367cd59-d6cf-4b3a-a9dd-70dbe682fa4f",
   "metadata": {},
   "outputs": [],
   "source": [
    "print(ds_s2.crs)"
   ]
  },
  {
   "cell_type": "code",
   "execution_count": null,
   "id": "61ba0ef2-1d85-473d-96b2-110b780c8f72",
   "metadata": {},
   "outputs": [],
   "source": [
    "print(ds_s2.geobox)"
   ]
  },
  {
   "cell_type": "markdown",
   "id": "3dee5863-6ca0-49e3-96b2-ba132be66fe2",
   "metadata": {},
   "source": [
    "### Indexing and selecting"
   ]
  },
  {
   "cell_type": "code",
   "execution_count": null,
   "id": "49750f02-bf23-4eb8-b472-48736e406e30",
   "metadata": {},
   "outputs": [],
   "source": [
    "ds_s2.isel(time=0)"
   ]
  },
  {
   "cell_type": "code",
   "execution_count": null,
   "id": "32aca72c-d235-4278-976b-3cd119caf66e",
   "metadata": {},
   "outputs": [],
   "source": [
    "ds_s2.sel(time='2022-04')"
   ]
  },
  {
   "cell_type": "code",
   "execution_count": null,
   "id": "d6c8f815-f6cc-489a-ac87-756d69b8e273",
   "metadata": {},
   "outputs": [],
   "source": [
    "ds_s2.isel(time=(ds_s2.time > np.datetime64('2022-03-01')))"
   ]
  },
  {
   "cell_type": "markdown",
   "id": "f2c74e9a-1439-4247-a8cb-3d86f48d773f",
   "metadata": {},
   "source": [
    "### Xarray calculations (reduction)"
   ]
  },
  {
   "cell_type": "code",
   "execution_count": null,
   "id": "96467304-95fd-470d-9efd-53c8da77411e",
   "metadata": {},
   "outputs": [],
   "source": [
    "ds_s2.mean(dim=\"time\")[[\"red\",\"green\",\"blue\"]].to_array().plot.imshow(robust=True);"
   ]
  },
  {
   "cell_type": "code",
   "execution_count": null,
   "id": "919601d5-68ab-4d9c-af8a-22988c5875d5",
   "metadata": {},
   "outputs": [],
   "source": [
    "ds_s2.median(dim=\"time\")[[\"red\",\"green\",\"blue\"]].to_array().plot.imshow(robust=True);"
   ]
  },
  {
   "cell_type": "code",
   "execution_count": null,
   "id": "05e9efbd-fcd6-449c-b51d-fb0d5d0ec56c",
   "metadata": {},
   "outputs": [],
   "source": [
    "ds_s2.mean(dim=[\"x\",\"y\"])"
   ]
  },
  {
   "cell_type": "code",
   "execution_count": null,
   "id": "bed603b2-05b8-49b2-98b3-d093dde9488d",
   "metadata": {},
   "outputs": [],
   "source": [
    "ds_s2.mean(dim=[\"x\",\"y\"]).green.plot();"
   ]
  },
  {
   "cell_type": "markdown",
   "id": "e58d39c6-5dec-4311-8c81-ff72c460d9fd",
   "metadata": {},
   "source": [
    "### Timeseries"
   ]
  },
  {
   "cell_type": "code",
   "execution_count": null,
   "id": "2753c61c-99f3-476e-bd5b-d3bbf88fffe6",
   "metadata": {},
   "outputs": [],
   "source": [
    "ds_s2.resample(time='2W').nearest().mean(dim=[\"x\",\"y\"]).green.plot();"
   ]
  },
  {
   "cell_type": "code",
   "execution_count": null,
   "id": "f12e72f3-7ff0-4f5e-9ed8-d416ea658122",
   "metadata": {},
   "outputs": [],
   "source": [
    "ds_s2.rolling(time=2, min_periods=1).mean().mean(dim=[\"x\",\"y\"]).green.plot();"
   ]
  },
  {
   "cell_type": "markdown",
   "id": "c5c1bb86-92ad-417d-8d39-e31c3ac6e308",
   "metadata": {},
   "source": [
    "### Xarray and Pandas"
   ]
  },
  {
   "cell_type": "code",
   "execution_count": null,
   "id": "24c1d0d2-9e95-46f7-91f8-563189dddfab",
   "metadata": {},
   "outputs": [],
   "source": [
    "df = ds_s2.mean(dim=[\"x\",\"y\"]).green.to_dataframe()"
   ]
  },
  {
   "cell_type": "code",
   "execution_count": null,
   "id": "906d4367-73ff-40d4-abb5-e87bac24d31d",
   "metadata": {},
   "outputs": [],
   "source": [
    "type(df)"
   ]
  },
  {
   "cell_type": "code",
   "execution_count": null,
   "id": "31c67df8-d61b-46a5-95e1-f8d9b60b7837",
   "metadata": {},
   "outputs": [],
   "source": [
    "df.to_csv('test.csv')"
   ]
  },
  {
   "cell_type": "code",
   "execution_count": null,
   "id": "980b1287-0c98-4376-8d44-49f431bac898",
   "metadata": {},
   "outputs": [],
   "source": [
    "dc.list_products()\n",
    "\n",
    "#type(dc.list_products())"
   ]
  },
  {
   "cell_type": "markdown",
   "id": "15f3b402-5040-4d45-8296-235f7b533981",
   "metadata": {},
   "source": [
    "#### Learn more about pandas and geopands\n",
    "\n",
    "pandas: https://pandas.pydata.org/docs/user_guide/10min.html\n",
    "\n",
    "geopandas: https://geopandas.org/en/stable/docs/user_guide.html"
   ]
  },
  {
   "cell_type": "markdown",
   "id": "b0652f87-6f53-460f-9a0d-1d9dfa2d5a2a",
   "metadata": {},
   "source": [
    "## Practice now"
   ]
  },
  {
   "cell_type": "markdown",
   "id": "3e66df79-c633-4aac-ab21-12a7e5fda943",
   "metadata": {},
   "source": [
    "### Pick a dataset you are interested in. \n",
    "\n",
    "If unsure, try Sentinel-2 for where you live or recently visited. If you have used Sentinel-2 through EASI or ODC, try another dataset.\n",
    "\n",
    "### Explore loading the data and plotting.\n",
    "\n",
    "### Try xarray operations\n",
    "\n",
    "e.g.\n",
    "* Select a timestamp to plot. Trying using .isel() and sel().\n",
    "* Calculate mean values over time for each pixel and plot the result.\n",
    "* Try a different calculation (e.g. sum, median) or try to apply the calculation on a different dimension and plot the results\n",
    "* Resample the data to a monthly (or daily, quarterly) frequency and plot monthly mean values as a line plot\n",
    "* Save the result\n",
    "\n",
    "\n",
    "### Think about\n",
    "\n",
    "* What did you try to achieve and what you've accomplished or learned?\n",
    "* What type of data did you access? Why? E.g. what does this data measure?\n",
    "* What else would you like to do with this dataset?"
   ]
  }
 ],
 "metadata": {
  "kernelspec": {
   "display_name": "Python 3 (ipykernel)",
   "language": "python",
   "name": "python3"
  },
  "language_info": {
   "codemirror_mode": {
    "name": "ipython",
    "version": 3
   },
   "file_extension": ".py",
   "mimetype": "text/x-python",
   "name": "python",
   "nbconvert_exporter": "python",
   "pygments_lexer": "ipython3",
   "version": "3.8.10"
  }
 },
 "nbformat": 4,
 "nbformat_minor": 5
}
